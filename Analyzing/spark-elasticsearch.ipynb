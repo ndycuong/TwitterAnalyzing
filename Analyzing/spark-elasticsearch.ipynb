{
 "cells": [
  {
   "cell_type": "code",
   "execution_count": 1,
   "id": "b4c3d6bf-167b-4fe0-b6dc-1d9e22d3f46a",
   "metadata": {},
   "outputs": [],
   "source": [
    "# !git clone -b predict https://github.com/K4TEL/geo-twitter.git"
   ]
  },
  {
   "cell_type": "code",
   "execution_count": 1,
   "id": "6eb4e5d5-2dd0-4278-b9f7-b26eb24884b1",
   "metadata": {},
   "outputs": [],
   "source": [
    "# ! pip install -r ./geo-twitter/requirements.txt"
   ]
  },
  {
   "cell_type": "code",
   "execution_count": 1,
   "id": "73622f86-d2eb-4f7a-afaa-aaa3adf92c10",
   "metadata": {},
   "outputs": [],
   "source": [
    "import os\n",
    "os.environ['PYSPARK_PYTHON'] = \"/opt/anaconda3/bin/python\"\n",
    "os.environ['PYSPARK_DRIVER_PYTHON'] = \"/opt/anaconda3/bin/python\""
   ]
  },
  {
   "cell_type": "code",
   "execution_count": 124,
   "id": "5b159f8f-8e03-45a7-964a-d384bf82b72a",
   "metadata": {},
   "outputs": [
    {
     "name": "stderr",
     "output_type": "stream",
     "text": [
      "[Stage 51:>                                                         (0 + 1) / 1]\r"
     ]
    },
    {
     "name": "stdout",
     "output_type": "stream",
     "text": [
      "+-------------+\n",
      "|    continent|\n",
      "+-------------+\n",
      "|North America|\n",
      "|       Africa|\n",
      "|North America|\n",
      "|North America|\n",
      "|         Asia|\n",
      "|North America|\n",
      "|North America|\n",
      "|         Asia|\n",
      "|       Europe|\n",
      "|       Africa|\n",
      "+-------------+\n",
      "only showing top 10 rows\n",
      "\n"
     ]
    },
    {
     "name": "stderr",
     "output_type": "stream",
     "text": [
      "                                                                                \r"
     ]
    }
   ],
   "source": [
    "# ! /opt/anaconda3/bin/python -c \"import torch\"\n",
    "#export PYSPARK_PYTHON=/opt/anaconda3/bin/python\n",
    "updated_df.select('user.continent').show(10)"
   ]
  },
  {
   "cell_type": "code",
   "execution_count": 126,
   "id": "c14f7936-cbd2-417d-800d-fac59a21b1e8",
   "metadata": {},
   "outputs": [
    {
     "name": "stderr",
     "output_type": "stream",
     "text": [
      "[Stage 52:>                                                         (0 + 1) / 1]\r"
     ]
    },
    {
     "name": "stdout",
     "output_type": "stream",
     "text": [
      "+--------------------+\n",
      "|  projects_following|\n",
      "+--------------------+\n",
      "| [{PFPs, code BLUE}]|\n",
      "|[{PFPs, Chill Chi...|\n",
      "|[{Dexes, Potluck ...|\n",
      "|[{Art, Generascop...|\n",
      "|[{Liquid Staking,...|\n",
      "|[{Dexes, Juggler ...|\n",
      "|[{Art, Platform 9...|\n",
      "|[{Art, Future Rea...|\n",
      "|[{Photography, ra...|\n",
      "|[{Gaming, Spinbla...|\n",
      "+--------------------+\n",
      "only showing top 10 rows\n",
      "\n"
     ]
    },
    {
     "name": "stderr",
     "output_type": "stream",
     "text": [
      "                                                                                \r"
     ]
    }
   ],
   "source": [
    "updated_df.select('projects_following').show(10)"
   ]
  },
  {
   "cell_type": "code",
   "execution_count": 127,
   "id": "ef68fede-4436-4a55-b91b-7ac125059bd2",
   "metadata": {},
   "outputs": [
    {
     "name": "stderr",
     "output_type": "stream",
     "text": [
      "[Stage 53:>                                                         (0 + 1) / 1]\r"
     ]
    },
    {
     "name": "stdout",
     "output_type": "stream",
     "text": [
      "+--------------------+\n",
      "|           sentiment|\n",
      "+--------------------+\n",
      "|[{neutral, 0.7515...|\n",
      "|[{neutral, 0.5239...|\n",
      "|[{neutral, 0.4977...|\n",
      "|[{neutral, 0.4387...|\n",
      "|[{neutral, 0.5958...|\n",
      "|[{positive, 0.725...|\n",
      "|[{neutral, 0.6935...|\n",
      "|[{neutral, 0.3675...|\n",
      "|[{positive, 0.852...|\n",
      "|[{neutral, 0.8235...|\n",
      "+--------------------+\n",
      "only showing top 10 rows\n",
      "\n"
     ]
    },
    {
     "name": "stderr",
     "output_type": "stream",
     "text": [
      "                                                                                \r"
     ]
    }
   ],
   "source": [
    "updated_df.select('tweets.sentiment').show(10)"
   ]
  },
  {
   "cell_type": "code",
   "execution_count": 57,
   "id": "fddc3cec-1d41-45a7-88fe-a0bae87b6959",
   "metadata": {},
   "outputs": [],
   "source": [
    "spark.stop()"
   ]
  },
  {
   "cell_type": "markdown",
   "id": "99a8678c-ac9a-41dd-b854-eda0783f6461",
   "metadata": {
    "jp-MarkdownHeadingCollapsed": true,
    "tags": []
   },
   "source": [
    "# Connect SPARK"
   ]
  },
  {
   "cell_type": "code",
   "execution_count": 2,
   "id": "3ef355fc-ffa4-4055-ae08-489d1ed2ae51",
   "metadata": {},
   "outputs": [
    {
     "name": "stderr",
     "output_type": "stream",
     "text": [
      "24/01/01 23:58:20 WARN NativeCodeLoader: Unable to load native-hadoop library for your platform... using builtin-java classes where applicable\n",
      "Setting default log level to \"WARN\".\n",
      "To adjust logging level use sc.setLogLevel(newLevel). For SparkR, use setLogLevel(newLevel).\n",
      "24/01/01 23:58:22 WARN Utils: Service 'SparkUI' could not bind on port 4040. Attempting port 4041.\n",
      "                                                                                \r"
     ]
    },
    {
     "name": "stdout",
     "output_type": "stream",
     "text": [
      "+--------------------+--------------------+--------------------+\n",
      "|  projects_following|              tweets|                user|\n",
      "+--------------------+--------------------+--------------------+\n",
      "| [{PFPs, code BLUE}]|[{0, [], 0, [], N...|{human, [11, 3, 0...|\n",
      "|[{Algo-Stables, S...|[{0, [], 0, [{sns...|{human, [17, 11, ...|\n",
      "|[{PFPs, Chill Chi...|[{24, [tezos], 18...|{human, [7, 5, 23...|\n",
      "|[{Dexes, Potluck ...|[{24, [], 53, [{s...|{human, [21, 16, ...|\n",
      "|[{Art, Generascop...|[{5, [], 32, [], ...|{human, [15, 19, ...|\n",
      "|[{Liquid Staking,...|[{0, [], 0, [{sns...|{human, [18, 5, 1...|\n",
      "|[{Dexes, Juggler ...|[{0, [], 6, [{sns...|{human, [16, 17, ...|\n",
      "|[{Launchpad, Seed...|[{22, [UE5, Cryow...|{human, [16, 15, ...|\n",
      "|[{Art, Platform 9...|[{47, [], 299, [{...|{human, [23, 9, 3...|\n",
      "|[{PFPs, Sugar Hea...|[{0, [], 0, [{sns...|{human, [12, 12, ...|\n",
      "|[{Art, Future Rea...|[{86, [], 30274, ...|{human, [14, 13, ...|\n",
      "|[{PFPs, AI Catgirl}]|[{2, [minecraft, ...|{human, [15, 22, ...|\n",
      "| [{Yield, Lavafall}]|[{0, [], 0, [{sns...|{human, [21, 16, ...|\n",
      "| [{Gaming, Exosama}]|[{64, [], 383, []...|{human, [13, 16, ...|\n",
      "|[{Art, LandVault:...|[{84, [], 518, [{...|{human, [20, 17, ...|\n",
      "|[{Virtual Worlds,...|[{0, [], 1, [], N...|{human, [18, 15, ...|\n",
      "|[{Photography, ra...|[{4, [], 24, [{sn...|{human, [8, 21, 1...|\n",
      "|[{Cexes, Binance ...|[{566, [usdtry, d...|{human, [15, 7, 2...|\n",
      "|[{Gaming, Spinbla...|[{49, [FlowFrenzN...|{human, [16, 19, ...|\n",
      "|[{Virtual Worlds,...|[{1, [vrpole], 31...|{human, [10, 18, ...|\n",
      "+--------------------+--------------------+--------------------+\n",
      "only showing top 20 rows\n",
      "\n"
     ]
    }
   ],
   "source": [
    "##Configuration\n",
    "from pyspark.sql import SparkSession\n",
    "from pyspark.sql.types import StructType, StructField, StringType, IntegerType\n",
    "#config the connector jar file\n",
    "spark = (SparkSession.builder.appName(\"SimpleSparkJob\").master(\"spark://34.142.194.212:7077\")\n",
    "         .config(\"spark.jars\", \"/opt/spark/jars/gcs-connector-latest-hadoop2.jar\")\n",
    "         .config(\"spark.executor.memory\", \"2G\")  #excutor excute only 2G\n",
    "        .config(\"spark.driver.memory\",\"4G\") \n",
    "        .config(\"spark.executor.cores\",\"1\") #Cluster use only 3 cores to excute as it has 3 server\n",
    "        .config(\"spark.python.worker.memory\",\"1G\") # each worker use 1G to excute\n",
    "        .config(\"spark.driver.maxResultSize\",\"3G\") #Maximum size of result is 3G\n",
    "        .config(\"spark.kryoserializer.buffer.max\",\"1024M\")\n",
    "        .config(\"spark.hadoop.fs.gs.impl\", \"com.google.cloud.hadoop.fs.gcs.GoogleHadoopFileSystem\") \n",
    "        .config(\"spark.hadoop.google.cloud.auth.service.account.enable\", \"true\") \n",
    "        #  .config(\"spark.shuffle.service.enabled\", \"false\")\n",
    "        # .config(\"spark.dynamicAllocation.enabled\", \"false\")\n",
    "        # .config(\"spark.hadoop.google.cloud.auth.service.account.json.keyfile\", \"/opt/bucket_connector/lucky-wall-393304-2a6a3df38253.json\") \n",
    "        # .config(\"spark.jars.packages\", \"com.google.cloud.bigdataoss:gcs-connector:hadoop3-2.2.0\")\n",
    "\n",
    "         .getOrCreate())\n",
    "#config the credential to identify the google cloud hadoop file \n",
    "# spark.conf.set(\"google.cloud.auth.service.account.json.keyfile\",\"/opt/bucket_connector/lucky-wall-393304-2a6a3df38253.json\")\n",
    "# spark._jsc.hadoopConfiguration().set('fs.gs.impl', 'com.google.cloud.hadoop.fs.gcs.GoogleHadoopFileSystem')\n",
    "# spark._jsc.hadoopConfiguration().set('fs.gs.auth.service.account.enable', 'true')\n",
    "\n",
    "## Connect to the file in Google Bucket with Spark\n",
    "\n",
    "path= f\"gs://it4043e-it5384/it5384/IT5384_Group2_Problem1/Data1.json\"\n",
    "df =spark.read.json(path, multiLine=True)\n",
    "df.show()\n",
    "\n",
    "#spark.stop() # Ending spark job"
   ]
  },
  {
   "cell_type": "code",
   "execution_count": 3,
   "id": "a87a91b0-f931-4ad4-8fa2-909a377c86a8",
   "metadata": {},
   "outputs": [
    {
     "name": "stderr",
     "output_type": "stream",
     "text": [
      "                                                                                \r"
     ]
    }
   ],
   "source": [
    "path= f\"gs://it4043e-it5384/it5384/IT5384_Group2_Problem1/FinalBigData.json\"\n",
    "dfData =spark.read.json(path, multiLine=True)"
   ]
  },
  {
   "cell_type": "code",
   "execution_count": 4,
   "id": "18495696-db3b-4e62-adc0-f137e3bcdbdf",
   "metadata": {},
   "outputs": [
    {
     "data": {
      "text/html": [
       "\n",
       "            <div>\n",
       "                <p><b>SparkSession - in-memory</b></p>\n",
       "                \n",
       "        <div>\n",
       "            <p><b>SparkContext</b></p>\n",
       "\n",
       "            <p><a href=\"http://bigdata-01.asia-southeast1-b.c.lucky-wall-393304.internal:4041\">Spark UI</a></p>\n",
       "\n",
       "            <dl>\n",
       "              <dt>Version</dt>\n",
       "                <dd><code>v3.5.0</code></dd>\n",
       "              <dt>Master</dt>\n",
       "                <dd><code>spark://34.142.194.212:7077</code></dd>\n",
       "              <dt>AppName</dt>\n",
       "                <dd><code>SimpleSparkJob</code></dd>\n",
       "            </dl>\n",
       "        </div>\n",
       "        \n",
       "            </div>\n",
       "        "
      ],
      "text/plain": [
       "<pyspark.sql.session.SparkSession at 0x7f679feff640>"
      ]
     },
     "execution_count": 4,
     "metadata": {},
     "output_type": "execute_result"
    }
   ],
   "source": [
    "spark"
   ]
  },
  {
   "cell_type": "markdown",
   "id": "759efe5f-2549-4d61-90a0-c7ed21045b27",
   "metadata": {
    "jp-MarkdownHeadingCollapsed": true,
    "tags": []
   },
   "source": [
    "# Location Predicting "
   ]
  },
  {
   "cell_type": "code",
   "execution_count": 5,
   "id": "1b65a875-6bea-44a4-ae44-7c9dc5eb4064",
   "metadata": {},
   "outputs": [
    {
     "name": "stdout",
     "output_type": "stream",
     "text": [
      "/opt/anaconda3/bin/python\n"
     ]
    }
   ],
   "source": [
    "import sys\n",
    "print(sys.executable)"
   ]
  },
  {
   "cell_type": "code",
   "execution_count": 6,
   "id": "27cb641f-b89d-46f7-974e-55bd0e0c3b73",
   "metadata": {},
   "outputs": [],
   "source": [
    "from pyspark import SparkContext\n",
    "sc = SparkContext.getOrCreate()\n",
    "\n",
    "sc.addPyFile(\"text_result.py\")"
   ]
  },
  {
   "cell_type": "code",
   "execution_count": 7,
   "id": "5ce30e1f-e926-49a8-acbb-b084318512e1",
   "metadata": {},
   "outputs": [],
   "source": [
    "from pyspark import SparkConf\n",
    "conf = SparkConf().set(\"spark.executorEnv.PYSPARK_PYTHON\", \"/opt/anaconda3/bin/python\")"
   ]
  },
  {
   "cell_type": "code",
   "execution_count": 8,
   "id": "7c21c9d6-aa73-44c2-96cb-3343c17e696e",
   "metadata": {},
   "outputs": [],
   "source": [
    "# import sys\n",
    "# sys.path.append('./geo-twitter')\n",
    "# import text_result\n",
    "from text_result import load_model, text_prediction"
   ]
  },
  {
   "cell_type": "code",
   "execution_count": 9,
   "id": "4a3464d7-7861-473f-a751-c8d658207e32",
   "metadata": {},
   "outputs": [],
   "source": [
    "hub_model = 'k4tel/geo-bert-multilingual'\n",
    "base_model = \"bert-base-multilingual-cased\"\n",
    "use_pipeline = True"
   ]
  },
  {
   "cell_type": "code",
   "execution_count": 10,
   "id": "d9b03ce9-42d9-494d-8ab4-ecb63b982dd9",
   "metadata": {},
   "outputs": [
    {
     "name": "stdout",
     "output_type": "stream",
     "text": [
      "MODEL\tInitializing BERT Regression model for 5 outcome(s)\n",
      "MODEL\tText features:\tNON-GEO + GEO-ONLY\n",
      "MODEL\tCoordinates:\t10\n",
      "MODEL\tWeights:\t5\n",
      "MODEL\tCovariances:\t5\tmatrix type:\tspher\n",
      "MODEL\tOriginal model to load:\tbert-base-multilingual-cased\n",
      "MODEL\tKey feature \tNON-GEO outputs:\t20\n",
      "MODEL\tMinor feature\tGEO-ONLY outputs:\t3\n",
      "LOAD\tLoading HF model from k4tel/geo-bert-multilingual\n"
     ]
    }
   ],
   "source": [
    "model_wrapper = load_model(base_model, hub_model, use_pipeline)"
   ]
  },
  {
   "cell_type": "code",
   "execution_count": 11,
   "id": "e681187e-83d2-49d0-8835-e183627a8167",
   "metadata": {},
   "outputs": [],
   "source": [
    "text = \"Chi la dura la vince url\"\n",
    "filter = False"
   ]
  },
  {
   "cell_type": "code",
   "execution_count": 12,
   "id": "bc3c8934-420c-4735-ab5b-74186dfdd971",
   "metadata": {},
   "outputs": [
    {
     "name": "stdout",
     "output_type": "stream",
     "text": [
      "RESULT\tPost-processing raw model outputs: tensor([[  4.4452,  25.6701,   9.3040,  40.9892,  13.7981,  41.2131,  20.4728,\n",
      "          -3.0671,  20.0061,  21.3602, -19.0938,  -1.4898,   4.5327, -18.8960,\n",
      "         -18.1328,   3.3912, 158.3822,   1.4718,  -5.1619,  46.7757]])\n",
      "RESULT\tSorting all outputs for 5 outcomes by probabilistic weights\n",
      "RESULT\t2 significant prediction outcome(s):\n",
      "\tOut 1\t99.76%\t-\tlon: 13.798074722290039  lat: 41.213130950927734\n",
      "\tOut 2\t0.24%\t-\tlon: 9.304001808166504  lat: 40.989173889160156\n"
     ]
    }
   ],
   "source": [
    "import numpy as np\n",
    "result = text_prediction(model_wrapper, text, use_pipeline, filter)\n",
    "ind = np.argwhere(np.round(result.weights[0, :] * 100, 2) > 0)\n",
    "significant = result.means[0, ind].reshape(-1, 2)\n",
    "weights = result.weights[0, ind].flatten()\n",
    "\n",
    "sig_weights = weights[weights > 0]\n",
    "\n",
    "print(f\"RESULT\\t{len(sig_weights)} significant prediction outcome(s):\")\n",
    "for i in range(len(sig_weights)):\n",
    "    point = f\"lon: {'  lat: '.join(map(str, significant[i]))}\"\n",
    "    weight = str(np.round(sig_weights[i] * 100, 2))\n",
    "    print(f\"\\tOut {i + 1}\\t{weight}%\\t-\\t{point}\")"
   ]
  },
  {
   "cell_type": "code",
   "execution_count": 13,
   "id": "3184bfbf-968f-4665-b668-37283460bf63",
   "metadata": {},
   "outputs": [],
   "source": [
    "# spark.stop()"
   ]
  },
  {
   "cell_type": "code",
   "execution_count": 14,
   "id": "e75e32c1-6454-48db-931c-e1775d7a024a",
   "metadata": {},
   "outputs": [],
   "source": [
    "country_bboxes = {\n",
    "    'AF': ('Afghanistan', (60.5284298033, 29.318572496, 75.1580277851, 38.4862816432)),\n",
    "    'AO': ('Angola', (11.6400960629, -17.9306364885, 24.0799052263, -4.43802336998)),\n",
    "    'AL': ('Albania', (19.3044861183, 39.624997667, 21.0200403175, 42.6882473822)),\n",
    "    'AE': ('United Arab Emirates', (51.5795186705, 22.4969475367, 56.3968473651, 26.055464179)),\n",
    "    'AR': ('Argentina', (-73.4154357571, -55.25, -53.628348965, -21.8323104794)),\n",
    "    'AM': ('Armenia', (43.5827458026, 38.7412014837, 46.5057198423, 41.2481285671)),\n",
    "    'AQ': ('Antarctica', (-180.0, -90.0, 180.0, -63.2706604895)),\n",
    "    'TF': ('Fr. S. and Antarctic Lands', (68.72, -49.775, 70.56, -48.625)),\n",
    "    'AU': ('Australia', (113.338953078, -43.6345972634, 153.569469029, -10.6681857235)),\n",
    "    'AT': ('Austria', (9.47996951665, 46.4318173285, 16.9796667823, 49.0390742051)),\n",
    "    'AZ': ('Azerbaijan', (44.7939896991, 38.2703775091, 50.3928210793, 41.8606751572)),\n",
    "    'BI': ('Burundi', (29.0249263852, -4.49998341229, 30.752262811, -2.34848683025)),\n",
    "    'BE': ('Belgium', (2.51357303225, 49.5294835476, 6.15665815596, 51.4750237087)),\n",
    "    'BJ': ('Benin', (0.772335646171, 6.14215770103, 3.79711225751, 12.2356358912)),\n",
    "    'BF': ('Burkina Faso', (-5.47056494793, 9.61083486576, 2.17710778159, 15.1161577418)),\n",
    "    'BD': ('Bangladesh', (88.0844222351, 20.670883287, 92.6727209818, 26.4465255803)),\n",
    "    'BG': ('Bulgaria', (22.3805257504, 41.2344859889, 28.5580814959, 44.2349230007)),\n",
    "    'BS': ('Bahamas', (-78.98, 23.71, -77.0, 27.04)),\n",
    "    'BA': ('Bosnia and Herz.', (15.7500260759, 42.65, 19.59976, 45.2337767604)),\n",
    "    'BY': ('Belarus', (23.1994938494, 51.3195034857, 32.6936430193, 56.1691299506)),\n",
    "    'BZ': ('Belize', (-89.2291216703, 15.8869375676, -88.1068129138, 18.4999822047)),\n",
    "    'BO': ('Bolivia', (-69.5904237535, -22.8729187965, -57.4983711412, -9.76198780685)),\n",
    "    'BR': ('Brazil', (-73.9872354804, -33.7683777809, -34.7299934555, 5.24448639569)),\n",
    "    'BN': ('Brunei', (114.204016555, 4.007636827, 115.450710484, 5.44772980389)),\n",
    "    'BT': ('Bhutan', (88.8142484883, 26.7194029811, 92.1037117859, 28.2964385035)),\n",
    "    'BW': ('Botswana', (19.8954577979, -26.8285429827, 29.4321883481, -17.6618156877)),\n",
    "    'CF': ('Central African Rep.', (14.4594071794, 2.2676396753, 27.3742261085, 11.1423951278)),\n",
    "    'CA': ('Canada', (-140.99778, 41.6751050889, -52.6480987209, 83.23324)),\n",
    "    'CH': ('Switzerland', (6.02260949059, 45.7769477403, 10.4427014502, 47.8308275417)),\n",
    "    'CL': ('Chile', (-75.6443953112, -55.61183, -66.95992, -17.5800118954)),\n",
    "    'CN': ('China', (73.6753792663, 18.197700914, 135.026311477, 53.4588044297)),\n",
    "    'CI': ('Ivory Coast', (-8.60288021487, 4.33828847902, -2.56218950033, 10.5240607772)),\n",
    "    'CM': ('Cameroon', (8.48881554529, 1.72767263428, 16.0128524106, 12.8593962671)),\n",
    "    'CD': ('Congo (Kinshasa)', (12.1823368669, -13.2572266578, 31.1741492042, 5.25608775474)),\n",
    "    'CG': ('Congo (Brazzaville)', (11.0937728207, -5.03798674888, 18.4530652198, 3.72819651938)),\n",
    "    'CO': ('Colombia', (-78.9909352282, -4.29818694419, -66.8763258531, 12.4373031682)),\n",
    "    'CR': ('Costa Rica', (-85.94172543, 8.22502798099, -82.5461962552, 11.2171192489)),\n",
    "    'CU': ('Cuba', (-84.9749110583, 19.8554808619, -74.1780248685, 23.1886107447)),\n",
    "    'CY': ('Cyprus', (32.2566671079, 34.5718694118, 34.0048808123, 35.1731247015)),\n",
    "    'CZ': ('Czech Rep.', (12.2401111182, 48.5553052842, 18.8531441586, 51.1172677679)),\n",
    "    'DE': ('Germany', (5.98865807458, 47.3024876979, 15.0169958839, 54.983104153)),\n",
    "    'DJ': ('Djibouti', (41.66176, 10.9268785669, 43.3178524107, 12.6996385767)),\n",
    "    'DK': ('Denmark', (8.08997684086, 54.8000145534, 12.6900061378, 57.730016588)),\n",
    "    'DO': ('Dominican Rep.', (-71.9451120673, 17.598564358, -68.3179432848, 19.8849105901)),\n",
    "    'DZ': ('Algeria', (-8.68439978681, 19.0573642034, 11.9995056495, 37.1183806422)),\n",
    "    'EC': ('Ecuador', (-80.9677654691, -4.95912851321, -75.2337227037, 1.3809237736)),\n",
    "    'EG': ('Egypt', (24.70007, 22.0, 36.86623, 31.58568)),\n",
    "    'ER': ('Eritrea', (36.3231889178, 12.4554157577, 43.0812260272, 17.9983074)),\n",
    "    'ES': ('Spain', (-9.39288367353, 35.946850084, 3.03948408368, 43.7483377142)),\n",
    "    'EE': ('Estonia', (23.3397953631, 57.4745283067, 28.1316992531, 59.6110903998)),\n",
    "    'ET': ('Ethiopia', (32.95418, 3.42206, 47.78942, 14.95943)),\n",
    "    'FI': ('Finland', (20.6455928891, 59.846373196, 31.5160921567, 70.1641930203)),\n",
    "    'FJ': ('Fiji', (-180.0, -18.28799, 180.0, -16.0208822567)),\n",
    "    'FK': ('Falkland Is.', (-61.2, -52.3, -57.75, -51.1)),\n",
    "    'FR': ('France', (-54.5247541978, 2.05338918702, 9.56001631027, 51.1485061713)),\n",
    "    'GA': ('Gabon', (8.79799563969, -3.97882659263, 14.4254557634, 2.32675751384)),\n",
    "    'GB': ('United Kingdom', (-7.57216793459, 49.959999905, 1.68153079591, 58.6350001085)),\n",
    "    'GE': ('Georgia', (39.9550085793, 41.0644446885, 46.6379081561, 43.553104153)),\n",
    "    'GH': ('Ghana', (-3.24437008301, 4.71046214438, 1.0601216976, 11.0983409693)),\n",
    "    'GN': ('Guinea', (-15.1303112452, 7.3090373804, -7.83210038902, 12.5861829696)),\n",
    "    'GM': ('Gambia', (-16.8415246241, 13.1302841252, -13.8449633448, 13.8764918075)),\n",
    "    'GW': ('Guinea Bissau', (-16.6774519516, 11.0404116887, -13.7004760401, 12.6281700708)),\n",
    "    'GQ': ('Eq. Guinea', (9.3056132341, 1.01011953369, 11.285078973, 2.28386607504)),\n",
    "    'GR': ('Greece', (20.1500159034, 34.9199876979, 26.6041955909, 41.8269046087)),\n",
    "    'GL': ('Greenland', (-73.297, 60.03676, -12.20855, 83.64513)),\n",
    "    'GT': ('Guatemala', (-92.2292486234, 13.7353376327, -88.2250227526, 17.8193260767)),\n",
    "    'GY': ('Guyana', (-61.4103029039, 1.26808828369, -56.5393857489, 8.36703481692)),\n",
    "    'HN': ('Honduras', (-89.3533259753, 12.9846857772, -83.147219001, 16.0054057886)),\n",
    "    'HR': ('Croatia', (13.6569755388, 42.47999136, 19.3904757016, 46.5037509222)),\n",
    "    'HT': ('Haiti', (-74.4580336168, 18.0309927434, -71.6248732164, 19.9156839055)),\n",
    "    'HU': ('Hungary', (16.2022982113, 45.7594811061, 22.710531447, 48.6238540716)),\n",
    "    'ID': ('Indonesia', (95.2930261576, -10.3599874813, 141.03385176, 5.47982086834)),\n",
    "    'IN': ('India', (68.1766451354, 7.96553477623, 97.4025614766, 35.4940095078)),\n",
    "    'IE': ('Ireland', (-9.97708574059, 51.6693012559, -6.03298539878, 55.1316222195)),\n",
    "    'IR': ('Iran', (44.1092252948, 25.0782370061, 63.3166317076, 39.7130026312)),\n",
    "    'IQ': ('Iraq', (38.7923405291, 29.0990251735, 48.5679712258, 37.3852635768)),\n",
    "    'IS': ('Iceland', (-24.3261840479, 63.4963829617, -13.609732225, 66.5267923041)),\n",
    "    'IL': ('Israel', (34.2654333839, 29.5013261988, 35.8363969256, 33.2774264593)),\n",
    "    'IT': ('Italy', (6.7499552751, 36.619987291, 18.4802470232, 47.1153931748)),\n",
    "    'JM': ('Jamaica', (-78.3377192858, 17.7011162379, -76.1996585761, 18.5242184514)),\n",
    "    'JO': ('Jordan', (34.9226025734, 29.1974946152, 39.1954683774, 33.3786864284)),\n",
    "    'JP': ('Japan', (129.408463169, 31.0295791692, 145.543137242, 45.5514834662)),\n",
    "    'KZ': ('Kazakhstan', (46.4664457538, 40.6623245306, 87.3599703308, 55.3852501491)),\n",
    "    'KE': ('Kenya', (33.8935689697, -4.67677, 41.8550830926, 5.506)),\n",
    "    'KG': ('Kyrgyzstan', (69.464886916, 39.2794632025, 80.2599902689, 43.2983393418)),\n",
    "    'KH': ('Cambodia', (102.3480994, 10.4865436874, 107.614547968, 14.5705838078)),\n",
    "    'KR': ('S. Korea', (126.117397903, 34.3900458847, 129.468304478, 38.6122429469)),\n",
    "    'KW': ('Kuwait', (46.5687134133, 28.5260627304, 48.4160941913, 30.0590699326)),\n",
    "    'LA': ('Laos', (100.115987583, 13.88109101, 107.564525181, 22.4647531194)),\n",
    "    'LB': ('Lebanon', (35.1260526873, 33.0890400254, 36.6117501157, 34.6449140488)),\n",
    "    'LR': ('Liberia', (-11.4387794662, 4.35575511313, -7.53971513511, 8.54105520267)),\n",
    "    'LY': ('Libya', (9.31941084152, 19.58047, 25.16482, 33.1369957545)),\n",
    "    'LK': ('Sri Lanka', (79.6951668639, 5.96836985923, 81.7879590189, 9.82407766361)),\n",
    "    'LS': ('Lesotho', (26.9992619158, -30.6451058896, 29.3251664568, -28.6475017229)),\n",
    "    'LT': ('Lithuania', (21.0558004086, 53.9057022162, 26.5882792498, 56.3725283881)),\n",
    "    'LU': ('Luxembourg', (5.67405195478, 49.4426671413, 6.24275109216, 50.1280516628)),\n",
    "    'LV': ('Latvia', (21.0558004086, 55.61510692, 28.1767094256, 57.9701569688)),\n",
    "    'MA': ('Morocco', (-17.0204284327, 21.4207341578, -1.12455115397, 35.7599881048)),\n",
    "    'MD': ('Moldova', (26.6193367856, 45.4882831895, 30.0246586443, 48.4671194525)),\n",
    "    'MG': ('Madagascar', (43.2541870461, -25.6014344215, 50.4765368996, -12.0405567359)),\n",
    "    'MX': ('Mexico', (-117.12776, 14.5388286402, -86.811982388, 32.72083)),\n",
    "    'MK': ('Macedonia', (20.46315, 40.8427269557, 22.9523771502, 42.3202595078)),\n",
    "    'ML': ('Mali', (-12.1707502914, 10.0963607854, 4.27020999514, 24.9745740829)),\n",
    "    'MM': ('Myanmar', (92.3032344909, 9.93295990645, 101.180005324, 28.335945136)),\n",
    "    'ME': ('Montenegro', (18.45, 41.87755, 20.3398, 43.52384)),\n",
    "    'MN': ('Mongolia', (87.7512642761, 41.5974095729, 119.772823928, 52.0473660345)),\n",
    "    'MZ': ('Mozambique', (30.1794812355, -26.7421916643, 40.7754752948, -10.3170960425)),\n",
    "    'MR': ('Mauritania', (-17.0634232243, 14.6168342147, -4.92333736817, 27.3957441269)),\n",
    "    'MW': ('Malawi', (32.6881653175, -16.8012997372, 35.7719047381, -9.23059905359)),\n",
    "    'MY': ('Malaysia', (100.085756871, 0.773131415201, 119.181903925, 6.92805288332)),\n",
    "    'NA': ('Namibia', (11.7341988461, -29.045461928, 25.0844433937, -16.9413428687)),\n",
    "    'NC': ('New Caledonia', (164.029605748, -22.3999760881, 167.120011428, -20.1056458473)),\n",
    "    'NE': ('Niger', (0.295646396495, 11.6601671412, 15.9032466977, 23.4716684026)),\n",
    "    'NG': ('Nigeria', (2.69170169436, 4.24059418377, 14.5771777686, 13.8659239771)),\n",
    "    'NI': ('Nicaragua', (-87.6684934151, 10.7268390975, -83.147219001, 15.0162671981)),\n",
    "    'NL': ('Netherlands', (3.31497114423, 50.803721015, 7.09205325687, 53.5104033474)),\n",
    "    'NO': ('Norway', (4.99207807783, 58.0788841824, 31.29341841, 80.6571442736)),\n",
    "    'NP': ('Nepal', (80.0884245137, 26.3978980576, 88.1748043151, 30.4227169866)),\n",
    "    'NZ': ('New Zealand', (166.509144322, -46.641235447, 178.517093541, -34.4506617165)),\n",
    "    'OM': ('Oman', (52.0000098, 16.6510511337, 59.8080603372, 26.3959343531)),\n",
    "    'PK': ('Pakistan', (60.8742484882, 23.6919650335, 77.8374507995, 37.1330309108)),\n",
    "    'PA': ('Panama', (-82.9657830472, 7.2205414901, -77.2425664944, 9.61161001224)),\n",
    "    'PE': ('Peru', (-81.4109425524, -18.3479753557, -68.6650797187, -0.0572054988649)),\n",
    "    'PH': ('Philippines', (117.17427453, 5.58100332277, 126.537423944, 18.5052273625)),\n",
    "    'PG': ('Papua New Guinea', (141.000210403, -10.6524760881, 156.019965448, -2.50000212973)),\n",
    "    'PL': ('Poland', (14.0745211117, 49.0273953314, 24.0299857927, 54.8515359564)),\n",
    "    'PR': ('Puerto Rico', (-67.2424275377, 17.946553453, -65.5910037909, 18.5206011011)),\n",
    "    'KP': ('N. Korea', (124.265624628, 37.669070543, 130.780007359, 42.9853868678)),\n",
    "    'PT': ('Portugal', (-9.52657060387, 36.838268541, -6.3890876937, 42.280468655)),\n",
    "    'PY': ('Paraguay', (-62.6850571357, -27.5484990374, -54.2929595608, -19.3427466773)),\n",
    "    'QA': ('Qatar', (50.7439107603, 24.5563308782, 51.6067004738, 26.1145820175)),\n",
    "    'RO': ('Romania', (20.2201924985, 43.6884447292, 29.62654341, 48.2208812526)),\n",
    "    'RU': ('Russia', (-180.0, 41.151416124, 180.0, 81.2504)),\n",
    "    'RW': ('Rwanda', (29.0249263852, -2.91785776125, 30.8161348813, -1.13465911215)),\n",
    "    'SA': ('Saudi Arabia', (34.6323360532, 16.3478913436, 55.6666593769, 32.161008816)),\n",
    "    'SD': ('Sudan', (21.93681, 8.61972971293, 38.4100899595, 22.0)),\n",
    "    'SS': ('S. Sudan', (23.8869795809, 3.50917, 35.2980071182, 12.2480077571)),\n",
    "    'SN': ('Senegal', (-17.6250426905, 12.332089952, -11.4678991358, 16.5982636581)),\n",
    "    'SB': ('Solomon Is.', (156.491357864, -10.8263672828, 162.398645868, -6.59933847415)),\n",
    "    'SL': ('Sierra Leone', (-13.2465502588, 6.78591685631, -10.2300935531, 10.0469839543)),\n",
    "    'SV': ('El Salvador', (-90.0955545723, 13.1490168319, -87.7235029772, 14.4241327987)),\n",
    "    'SO': ('Somalia', (40.98105, -1.68325, 51.13387, 12.02464)),\n",
    "    'RS': ('Serbia', (18.82982, 42.2452243971, 22.9860185076, 46.1717298447)),\n",
    "    'SR': ('Suriname', (-58.0446943834, 1.81766714112, -53.9580446031, 6.0252914494)),\n",
    "    'SK': ('Slovakia', (16.8799829444, 47.7584288601, 22.5581376482, 49.5715740017)),\n",
    "    'SI': ('Slovenia', (13.6981099789, 45.4523163926, 16.5648083839, 46.8523859727)),\n",
    "    'SE': ('Sweden', (11.0273686052, 55.3617373725, 23.9033785336, 69.1062472602)),\n",
    "    'SZ': ('Swaziland', (30.6766085141, -27.2858794085, 32.0716654803, -25.660190525)),\n",
    "    'SY': ('Syria', (35.7007979673, 32.312937527, 42.3495910988, 37.2298725449)),\n",
    "    'TD': ('Chad', (13.5403935076, 7.42192454674, 23.88689, 23.40972)),\n",
    "    'TG': ('Togo', (-0.0497847151599, 5.92883738853, 1.86524051271, 11.0186817489)),\n",
    "    'TH': ('Thailand', (97.3758964376, 5.69138418215, 105.589038527, 20.4178496363)),\n",
    "    'TJ': ('Tajikistan', (67.4422196796, 36.7381712916, 74.9800024759, 40.9602133245)),\n",
    "    'TM': ('Turkmenistan', (52.5024597512, 35.2706639674, 66.5461503437, 42.7515510117)),\n",
    "    'TL': ('East Timor', (124.968682489, -9.39317310958, 127.335928176, -8.27334482181)),\n",
    "    'TT': ('Trinidad and Tobago', (-61.95, 10.0, -60.895, 10.89)),\n",
    "    'TN': ('Tunisia', (7.52448164229, 30.3075560572, 11.4887874691, 37.3499944118)),\n",
    "    'TR': ('Turkey', (26.0433512713, 35.8215347357, 44.7939896991, 42.1414848903)),\n",
    "    'TW': ('Taiwan', (120.106188593, 21.9705713974, 121.951243931, 25.2954588893)),\n",
    "    'TZ': ('Tanzania', (29.3399975929, -11.7209380022, 40.31659, -0.95)),\n",
    "    'UG': ('Uganda', (29.5794661801, -1.44332244223, 35.03599, 4.24988494736)),\n",
    "    'UA': ('Ukraine', (22.0856083513, 44.3614785833, 40.0807890155, 52.3350745713)),\n",
    "    'UY': ('Uruguay', (-58.4270741441, -34.9526465797, -53.209588996, -30.1096863746)),\n",
    "    'US': ('United States', (-171.791110603, 18.91619, -66.96466, 71.3577635769)),\n",
    "    'UZ': ('Uzbekistan', (55.9289172707, 37.1449940049, 73.055417108, 45.5868043076)),\n",
    "    'VE': ('Venezuela', (-73.3049515449, 0.724452215982, -59.7582848782, 12.1623070337)),\n",
    "    'VN': ('Vietnam', (102.170435826, 8.59975962975, 109.33526981, 23.3520633001)),\n",
    "    'VU': ('Vanuatu', (166.629136998, -16.5978496233, 167.844876744, -14.6264970842)),\n",
    "    'PS': ('West Bank', (34.9274084816, 31.3534353704, 35.5456653175, 32.5325106878)),\n",
    "    'YE': ('Yemen', (42.6048726743, 12.5859504257, 53.1085726255, 19.0000033635)),\n",
    "    'ZA': ('South Africa', (16.3449768409, -34.8191663551, 32.830120477, -22.0913127581)),\n",
    "    'ZM': ('Zambia', (21.887842645, -17.9612289364, 33.4856876971, -8.23825652429)),\n",
    "    'ZW': ('Zimbabwe', (25.2642257016, -22.2716118303, 32.8498608742, -15.5077869605)),}"
   ]
  },
  {
   "cell_type": "code",
   "execution_count": 15,
   "id": "940f3a44-5925-4ae7-add6-e3428eb356f9",
   "metadata": {},
   "outputs": [],
   "source": [
    "import geonamescache\n",
    "gc = geonamescache.GeonamesCache()\n",
    "countries = gc.get_countries()\n",
    "continents = gc.get_continents()\n",
    "# Broadcast the dictionaries\n",
    "broadcast_countries = spark.sparkContext.broadcast(countries)\n",
    "broadcast_continents = spark.sparkContext.broadcast(continents)\n",
    "#continent_names = {code: continent['toponymName'] for code, continent in continents.items()}\n",
    "continent_names = spark.sparkContext.broadcast(\n",
    "    {code: continent['toponymName'] for code, continent in gc.get_continents().items()})"
   ]
  },
  {
   "cell_type": "code",
   "execution_count": 16,
   "id": "28b2209f-7121-4425-b52a-c9dc28efbfec",
   "metadata": {},
   "outputs": [],
   "source": [
    "# Assuming continent_names is a broadcast variable\n",
    "# country_to_continent will not be a broadcast variable but a regular dictionary\n",
    "country_to_continent = {\n",
    "    country['iso']: continent_names.value[country['continentcode']] \n",
    "    for country in countries.values()\n",
    "}\n",
    "\n",
    "# If you need to broadcast country_to_continent\n",
    "country_to_continent = spark.sparkContext.broadcast(country_to_continent)"
   ]
  },
  {
   "cell_type": "code",
   "execution_count": 17,
   "id": "5a4160fd-b609-42d6-bf98-40f9b28dcd11",
   "metadata": {},
   "outputs": [
    {
     "data": {
      "text/plain": [
       "{'AF': 'Africa',\n",
       " 'AS': 'Asia',\n",
       " 'EU': 'Europe',\n",
       " 'NA': 'North America',\n",
       " 'OC': 'Oceania',\n",
       " 'SA': 'South America',\n",
       " 'AN': 'Antarctica'}"
      ]
     },
     "execution_count": 17,
     "metadata": {},
     "output_type": "execute_result"
    }
   ],
   "source": [
    "continent_names.value"
   ]
  },
  {
   "cell_type": "code",
   "execution_count": 18,
   "id": "0dcbd21a-a946-4e08-80ed-460ffee8cbcc",
   "metadata": {},
   "outputs": [],
   "source": [
    "from pyspark.sql.functions import udf\n",
    "\n",
    "country_bboxes_broadcast = spark.sparkContext.broadcast(country_bboxes)\n",
    "\n",
    "def get_country_from_coords(longitude, latitude):\n",
    "    country_bboxes = country_bboxes_broadcast.value\n",
    "    for country_code, (country_name, (west, south, east, north)) in country_bboxes.items():\n",
    "        if west <= longitude <= east and south <= latitude <= north:\n",
    "            return country_code\n",
    "    return \"Unknown\"\n",
    "\n",
    "get_country_from_coords_udf = udf(get_country_from_coords, StringType())"
   ]
  },
  {
   "cell_type": "code",
   "execution_count": 19,
   "id": "e13efa16-4bb8-457b-ac1d-90d239eb4a13",
   "metadata": {},
   "outputs": [],
   "source": [
    "def get_continent_from_country(country_code):\n",
    "    # Accessing the broadcasted dictionary using .value\n",
    "    country_to_continent_dict = country_to_continent.value\n",
    "    return country_to_continent_dict.get(country_code, \"Unknown\")\n",
    "\n",
    "\n",
    "get_continent_from_country_udf = udf(get_continent_from_country, StringType())"
   ]
  },
  {
   "cell_type": "markdown",
   "id": "f0984c09-af56-49b8-ab46-4d67080b13d7",
   "metadata": {},
   "source": [
    "## Stage 1: using decoding nominatim"
   ]
  },
  {
   "cell_type": "code",
   "execution_count": 20,
   "id": "b9591f58-6905-4ae2-ab1b-928860f6a23c",
   "metadata": {},
   "outputs": [],
   "source": [
    "from pyspark.sql.types import StringType\n",
    "import requests\n",
    "\n",
    "def get_location_tag_udf(location):\n",
    "    try:\n",
    "        url = \"https://nominatim.openstreetmap.org/search\"\n",
    "        params = {\n",
    "            \"q\": location,\n",
    "            \"format\": \"json\"\n",
    "        }\n",
    "        response = requests.get(url, params=params)\n",
    "        results = response.json()\n",
    "        if results:\n",
    "            loc = results[0]\n",
    "            lat, lon = loc['lat'], loc['lon']\n",
    "\n",
    "            # Reverse geocode to get country code\n",
    "            rev_url = \"https://nominatim.openstreetmap.org/reverse\"\n",
    "            rev_params = {\n",
    "                \"lat\": lat,\n",
    "                \"lon\": lon,\n",
    "                \"format\": \"json\"\n",
    "            }\n",
    "            rev_response = requests.get(rev_url, params=rev_params)\n",
    "            rev_results = rev_response.json()\n",
    "            if rev_results and 'address' in rev_results and 'country_code' in rev_results['address']:\n",
    "                countryCode = rev_results['address']['country_code'].upper()\n",
    "\n",
    "                # Use broadcast variables\n",
    "                countries_dict = broadcast_countries.value\n",
    "                continents_dict = broadcast_continents.value\n",
    "\n",
    "                for country in countries_dict:\n",
    "                    if countries_dict[country]['iso'] == countryCode:\n",
    "                        continentCode = countries_dict[country]['continentcode']\n",
    "                        if continentCode in continents_dict:\n",
    "                            return continents_dict[continentCode]['toponymName']\n",
    "                        break\n",
    "    except Exception as e:\n",
    "        return \"Unknown\"\n",
    "\n",
    "get_location_tag_spark_udf = udf(get_location_tag_udf, StringType())"
   ]
  },
  {
   "cell_type": "code",
   "execution_count": 21,
   "id": "1ee3fc57-a2d6-48bd-b23b-63b196def561",
   "metadata": {},
   "outputs": [],
   "source": [
    "df_with_continent = df.withColumn(\"continent\", get_location_tag_spark_udf(df[\"user.location\"]))"
   ]
  },
  {
   "cell_type": "code",
   "execution_count": 22,
   "id": "d8e7650f-3693-402b-a71f-f8b83b608b48",
   "metadata": {},
   "outputs": [
    {
     "name": "stderr",
     "output_type": "stream",
     "text": [
      "24/01/02 00:01:27 WARN TaskSetManager: Lost task 0.0 in stage 3.0 (TID 3) (10.148.0.22 executor 1): org.apache.spark.api.python.PythonException: Traceback (most recent call last):\n",
      "  File \"/opt/spark/python/lib/pyspark.zip/pyspark/worker.py\", line 1100, in main\n",
      "    raise PySparkRuntimeError(\n",
      "pyspark.errors.exceptions.base.PySparkRuntimeError: [PYTHON_VERSION_MISMATCH] Python in worker has different version (3, 11) than that in driver 3.9, PySpark cannot run with different minor versions.\n",
      "Please check environment variables PYSPARK_PYTHON and PYSPARK_DRIVER_PYTHON are correctly set.\n",
      "\n",
      "\tat org.apache.spark.api.python.BasePythonRunner$ReaderIterator.handlePythonException(PythonRunner.scala:572)\n",
      "\tat org.apache.spark.sql.execution.python.BasePythonUDFRunner$$anon$1.read(PythonUDFRunner.scala:94)\n",
      "\tat org.apache.spark.sql.execution.python.BasePythonUDFRunner$$anon$1.read(PythonUDFRunner.scala:75)\n",
      "\tat org.apache.spark.api.python.BasePythonRunner$ReaderIterator.hasNext(PythonRunner.scala:525)\n",
      "\tat org.apache.spark.InterruptibleIterator.hasNext(InterruptibleIterator.scala:37)\n",
      "\tat scala.collection.Iterator$$anon$11.hasNext(Iterator.scala:491)\n",
      "\tat scala.collection.Iterator$$anon$10.hasNext(Iterator.scala:460)\n",
      "\tat scala.collection.Iterator$$anon$10.hasNext(Iterator.scala:460)\n",
      "\tat org.apache.spark.sql.catalyst.expressions.GeneratedClass$GeneratedIteratorForCodegenStage2.processNext(Unknown Source)\n",
      "\tat org.apache.spark.sql.execution.BufferedRowIterator.hasNext(BufferedRowIterator.java:43)\n",
      "\tat org.apache.spark.sql.execution.WholeStageCodegenEvaluatorFactory$WholeStageCodegenPartitionEvaluator$$anon$1.hasNext(WholeStageCodegenEvaluatorFactory.scala:43)\n",
      "\tat org.apache.spark.sql.execution.SparkPlan.$anonfun$getByteArrayRdd$1(SparkPlan.scala:388)\n",
      "\tat org.apache.spark.rdd.RDD.$anonfun$mapPartitionsInternal$2(RDD.scala:890)\n",
      "\tat org.apache.spark.rdd.RDD.$anonfun$mapPartitionsInternal$2$adapted(RDD.scala:890)\n",
      "\tat org.apache.spark.rdd.MapPartitionsRDD.compute(MapPartitionsRDD.scala:52)\n",
      "\tat org.apache.spark.rdd.RDD.computeOrReadCheckpoint(RDD.scala:364)\n",
      "\tat org.apache.spark.rdd.RDD.iterator(RDD.scala:328)\n",
      "\tat org.apache.spark.scheduler.ResultTask.runTask(ResultTask.scala:93)\n",
      "\tat org.apache.spark.TaskContext.runTaskWithListeners(TaskContext.scala:161)\n",
      "\tat org.apache.spark.scheduler.Task.run(Task.scala:141)\n",
      "\tat org.apache.spark.executor.Executor$TaskRunner.$anonfun$run$4(Executor.scala:620)\n",
      "\tat org.apache.spark.util.SparkErrorUtils.tryWithSafeFinally(SparkErrorUtils.scala:64)\n",
      "\tat org.apache.spark.util.SparkErrorUtils.tryWithSafeFinally$(SparkErrorUtils.scala:61)\n",
      "\tat org.apache.spark.util.Utils$.tryWithSafeFinally(Utils.scala:94)\n",
      "\tat org.apache.spark.executor.Executor$TaskRunner.run(Executor.scala:623)\n",
      "\tat java.base/java.util.concurrent.ThreadPoolExecutor.runWorker(ThreadPoolExecutor.java:1128)\n",
      "\tat java.base/java.util.concurrent.ThreadPoolExecutor$Worker.run(ThreadPoolExecutor.java:628)\n",
      "\tat java.base/java.lang.Thread.run(Thread.java:829)\n",
      "\n"
     ]
    },
    {
     "name": "stdout",
     "output_type": "stream",
     "text": [
      "+--------------------+--------------------+--------------------+-------------+\n",
      "|  projects_following|              tweets|                user|    continent|\n",
      "+--------------------+--------------------+--------------------+-------------+\n",
      "| [{PFPs, code BLUE}]|[{0, [], 0, [], N...|{human, [11, 3, 0...|       Europe|\n",
      "|[{Algo-Stables, S...|[{0, [], 0, [{sns...|{human, [17, 11, ...|         NULL|\n",
      "|[{PFPs, Chill Chi...|[{24, [tezos], 18...|{human, [7, 5, 23...|       Africa|\n",
      "|[{Dexes, Potluck ...|[{24, [], 53, [{s...|{human, [21, 16, ...|North America|\n",
      "|[{Art, Generascop...|[{5, [], 32, [], ...|{human, [15, 19, ...|North America|\n",
      "|[{Liquid Staking,...|[{0, [], 0, [{sns...|{human, [18, 5, 1...|         Asia|\n",
      "|[{Dexes, Juggler ...|[{0, [], 6, [{sns...|{human, [16, 17, ...|North America|\n",
      "|[{Launchpad, Seed...|[{22, [UE5, Cryow...|{human, [16, 15, ...|         NULL|\n",
      "|[{Art, Platform 9...|[{47, [], 299, [{...|{human, [23, 9, 3...|North America|\n",
      "|[{PFPs, Sugar Hea...|[{0, [], 0, [{sns...|{human, [12, 12, ...|         NULL|\n",
      "|[{Art, Future Rea...|[{86, [], 30274, ...|{human, [14, 13, ...|         Asia|\n",
      "|[{PFPs, AI Catgirl}]|[{2, [minecraft, ...|{human, [15, 22, ...|         NULL|\n",
      "| [{Yield, Lavafall}]|[{0, [], 0, [{sns...|{human, [21, 16, ...|         NULL|\n",
      "| [{Gaming, Exosama}]|[{64, [], 383, []...|{human, [13, 16, ...|         NULL|\n",
      "|[{Art, LandVault:...|[{84, [], 518, [{...|{human, [20, 17, ...|         NULL|\n",
      "|[{Virtual Worlds,...|[{0, [], 1, [], N...|{human, [18, 15, ...|         NULL|\n",
      "|[{Photography, ra...|[{4, [], 24, [{sn...|{human, [8, 21, 1...|       Europe|\n",
      "|[{Cexes, Binance ...|[{566, [usdtry, d...|{human, [15, 7, 2...|         NULL|\n",
      "|[{Gaming, Spinbla...|[{49, [FlowFrenzN...|{human, [16, 19, ...|       Africa|\n",
      "|[{Virtual Worlds,...|[{1, [vrpole], 31...|{human, [10, 18, ...|       Africa|\n",
      "+--------------------+--------------------+--------------------+-------------+\n",
      "only showing top 20 rows\n",
      "\n"
     ]
    },
    {
     "name": "stderr",
     "output_type": "stream",
     "text": [
      "                                                                                \r"
     ]
    }
   ],
   "source": [
    "df_with_continent.show()"
   ]
  },
  {
   "cell_type": "code",
   "execution_count": 23,
   "id": "57c92dc2-61cb-491c-b9e0-11a9dc14a5dd",
   "metadata": {},
   "outputs": [
    {
     "name": "stderr",
     "output_type": "stream",
     "text": [
      "[Stage 4:>                                                          (0 + 1) / 1]\r"
     ]
    },
    {
     "name": "stdout",
     "output_type": "stream",
     "text": [
      "+--------------------+--------------------+--------------------+-------------+\n",
      "|  projects_following|              tweets|                user|    continent|\n",
      "+--------------------+--------------------+--------------------+-------------+\n",
      "| [{PFPs, code BLUE}]|[{0, [], 0, [], N...|{human, [11, 3, 0...|       Europe|\n",
      "|[{Algo-Stables, S...|[{0, [], 0, [{sns...|{human, [17, 11, ...|         NULL|\n",
      "|[{PFPs, Chill Chi...|[{24, [tezos], 18...|{human, [7, 5, 23...|       Africa|\n",
      "|[{Dexes, Potluck ...|[{24, [], 53, [{s...|{human, [21, 16, ...|North America|\n",
      "|[{Art, Generascop...|[{5, [], 32, [], ...|{human, [15, 19, ...|North America|\n",
      "|[{Liquid Staking,...|[{0, [], 0, [{sns...|{human, [18, 5, 1...|         Asia|\n",
      "|[{Dexes, Juggler ...|[{0, [], 6, [{sns...|{human, [16, 17, ...|North America|\n",
      "|[{Launchpad, Seed...|[{22, [UE5, Cryow...|{human, [16, 15, ...|         NULL|\n",
      "|[{Art, Platform 9...|[{47, [], 299, [{...|{human, [23, 9, 3...|North America|\n",
      "|[{PFPs, Sugar Hea...|[{0, [], 0, [{sns...|{human, [12, 12, ...|         NULL|\n",
      "|[{Art, Future Rea...|[{86, [], 30274, ...|{human, [14, 13, ...|         Asia|\n",
      "|[{PFPs, AI Catgirl}]|[{2, [minecraft, ...|{human, [15, 22, ...|         NULL|\n",
      "| [{Yield, Lavafall}]|[{0, [], 0, [{sns...|{human, [21, 16, ...|         NULL|\n",
      "| [{Gaming, Exosama}]|[{64, [], 383, []...|{human, [13, 16, ...|         NULL|\n",
      "|[{Art, LandVault:...|[{84, [], 518, [{...|{human, [20, 17, ...|         NULL|\n",
      "|[{Virtual Worlds,...|[{0, [], 1, [], N...|{human, [18, 15, ...|         NULL|\n",
      "|[{Photography, ra...|[{4, [], 24, [{sn...|{human, [8, 21, 1...|       Europe|\n",
      "|[{Cexes, Binance ...|[{566, [usdtry, d...|{human, [15, 7, 2...|         NULL|\n",
      "|[{Gaming, Spinbla...|[{49, [FlowFrenzN...|{human, [16, 19, ...|       Africa|\n",
      "|[{Virtual Worlds,...|[{1, [vrpole], 31...|{human, [10, 18, ...|       Africa|\n",
      "+--------------------+--------------------+--------------------+-------------+\n",
      "only showing top 20 rows\n",
      "\n"
     ]
    },
    {
     "name": "stderr",
     "output_type": "stream",
     "text": [
      "                                                                                \r"
     ]
    }
   ],
   "source": [
    "from pyspark.sql.functions import col, size\n",
    "#Filter projects_following field not null\n",
    "newDf = df_with_continent.filter((size(col('projects_following')) > 0))\n",
    "newDf.show()"
   ]
  },
  {
   "cell_type": "markdown",
   "id": "d5297905-21eb-44c2-bfe5-cf8f81b5d5be",
   "metadata": {
    "tags": []
   },
   "source": [
    "## Stage 2: using geo-bert predicting"
   ]
  },
  {
   "cell_type": "code",
   "execution_count": 24,
   "id": "7dd82a9f-8152-4dc2-8282-0033dfc4347b",
   "metadata": {},
   "outputs": [],
   "source": [
    "# from pyspark.sql.types import StringType\n",
    "# from pyspark.sql.functions import col, when, udf\n",
    "# import numpy as np\n",
    "\n",
    "# def geo_bert_continent(tweets_array):\n",
    "#     continent_votes = []\n",
    "\n",
    "#     for tweet in tweets_array:\n",
    "#         try: \n",
    "#             tweet_text = tweet['tweet_content'] \n",
    "#             if(len(tweet_text)>2500):\n",
    "#                 tweet_text= tweet_text[:2500]\n",
    "#             result = text_prediction(model_wrapper, tweet_text, True)\n",
    "#             #print(result)\n",
    "#             if result and result.weights.size > 0:\n",
    "#                 max_weight_index = np.argmax(result.weights[0, :])\n",
    "#                 coordinates = result.means[0, max_weight_index]\n",
    "#             country = get_country_from_coords(coordinates[0], coordinates[1])\n",
    "#             continent = get_continent_from_country(country)\n",
    "#             if continent:\n",
    "#                 continent_votes.append(continent)\n",
    "#         except Exception as e:\n",
    "#             print(e)            \n",
    "\n",
    "#     # Trả về lục địa phổ biến nhất hoặc \"Unknown\" nếu không có dữ liệu\n",
    "#     return max(set(continent_votes), key=continent_votes.count) if continent_votes else \"Unknown\"\n",
    "\n",
    "# # Tạo UDF\n",
    "# geo_bert_continent_udf = udf(geo_bert_continent, StringType())\n",
    "\n",
    "# # Sử dụng UDF trong DataFrame\n",
    "# df_with_continent = df_with_continent.withColumn(\n",
    "#     \"continent\",\n",
    "#     when(\n",
    "#         col(\"continent\").isNull(),\n",
    "#         geo_bert_continent_udf(col(\"tweets\"))\n",
    "#     ).otherwise(col(\"continent\"))\n",
    "# )"
   ]
  },
  {
   "cell_type": "code",
   "execution_count": 25,
   "id": "efce32dc-09c9-4711-9a62-dd8492416b1b",
   "metadata": {},
   "outputs": [],
   "source": [
    "continent_names = {code: continent['toponymName'] for code, continent in continents.items()}\n",
    "country_to_continent = {country['iso']: continent_names[country['continentcode']] for country in countries.values()}\n",
    "\n",
    "# Function to get the country code from coordinates\n",
    "def get_country_from_coords(longitude, latitude, country_bboxes):\n",
    "    for country_code, (country_name, (west, south, east, north)) in country_bboxes.items():\n",
    "        if west <= longitude <= east and south <= latitude <= north:\n",
    "            return country_code\n",
    "    return \"Unknown\"\n",
    "\n",
    "# Function to get the continent name from country code\n",
    "def get_continent_from_country(country_code):\n",
    "    return country_to_continent.get(country_code, \"Unknown\")\n",
    "\n",
    "def process_user_data(json_path):\n",
    "    if continent == \"Unknown\":\n",
    "        continent_votes = []\n",
    "        for tweet in tweets:\n",
    "            tweet_text = tweet['tweet_content']\n",
    "            tokenizer = AutoTokenizer.from_pretrained(\"k4tel/geo-bert-multilingual\")\n",
    "            tokens = tokenizer.encode(tweet_text, add_special_tokens=True)\n",
    "            try:\n",
    "                if len(tokens) > 450:\n",
    "                    tokens = tokens[:450]\n",
    "                    truncated_text = tokenizer.decode(tokens)\n",
    "                                # Apply text prediction analysis for each tweet\n",
    "                    result = text_prediction(model_wrapper, truncated_text, use_pipeline, True)\n",
    "                else:\n",
    "                    result = text_prediction(model_wrapper, tweet_text, use_pipeline, True)\n",
    "            except Exception as e:\n",
    "                pass\n",
    "\n",
    "            if result and result.weights.size > 0:\n",
    "                max_weight_index = np.argmax(result.weights[0, :])\n",
    "                coordinates = result.means[0, max_weight_index]\n",
    "                        \n",
    "            continent_vote = get_continent_from_country(get_country_from_coords(coordinates[0], coordinates[1],country_bboxes))\n",
    "            if continent_vote:\n",
    "                continent_votes.append(continent_vote)\n",
    "                    # Determine the most common continent or assign \"Unknown\"\n",
    "        return max(set(continent_votes), key=continent_votes.count) if continent_votes else \"Unknown\"\n",
    "    else:\n",
    "        return continent\n",
    "process_user_udf = udf(process_user_data, StringType())"
   ]
  },
  {
   "cell_type": "code",
   "execution_count": 26,
   "id": "9f911d8a-afce-4a46-9813-15b3f0a2f811",
   "metadata": {},
   "outputs": [],
   "source": [
    "df_with_updated_continent = newDf.withColumn(\"continent\", process_user_udf(newDf[\"continent\"], newDf[\"tweets\"]))"
   ]
  },
  {
   "cell_type": "code",
   "execution_count": 27,
   "id": "d4ad8470-d6bb-4f4c-997a-f063fd90208d",
   "metadata": {},
   "outputs": [
    {
     "name": "stdout",
     "output_type": "stream",
     "text": [
      "root\n",
      " |-- projects_following: array (nullable = true)\n",
      " |    |-- element: struct (containsNull = true)\n",
      " |    |    |-- category: string (nullable = true)\n",
      " |    |    |-- project: string (nullable = true)\n",
      " |-- tweets: array (nullable = true)\n",
      " |    |-- element: struct (containsNull = true)\n",
      " |    |    |-- comment_count: long (nullable = true)\n",
      " |    |    |-- hashtags: array (nullable = true)\n",
      " |    |    |    |-- element: string (containsNull = true)\n",
      " |    |    |-- like_count: long (nullable = true)\n",
      " |    |    |-- mentioned_users: array (nullable = true)\n",
      " |    |    |    |-- element: struct (containsNull = true)\n",
      " |    |    |    |    |-- _type: string (nullable = true)\n",
      " |    |    |    |    |-- displayname: string (nullable = true)\n",
      " |    |    |    |    |-- id: long (nullable = true)\n",
      " |    |    |    |    |-- username: string (nullable = true)\n",
      " |    |    |-- place: struct (nullable = true)\n",
      " |    |    |    |-- country: string (nullable = true)\n",
      " |    |    |    |-- countryCode: string (nullable = true)\n",
      " |    |    |    |-- fullName: string (nullable = true)\n",
      " |    |    |    |-- id: string (nullable = true)\n",
      " |    |    |    |-- name: string (nullable = true)\n",
      " |    |    |    |-- type: string (nullable = true)\n",
      " |    |    |-- quote_count: long (nullable = true)\n",
      " |    |    |-- retweet_count: long (nullable = true)\n",
      " |    |    |-- tweet_content: string (nullable = true)\n",
      " |    |    |-- tweet_created_at: string (nullable = true)\n",
      " |    |    |-- tweet_id: long (nullable = true)\n",
      " |    |    |-- user: string (nullable = true)\n",
      " |    |    |-- view_count: long (nullable = true)\n",
      " |-- user: struct (nullable = true)\n",
      " |    |-- account_type: string (nullable = true)\n",
      " |    |-- activities_hour: array (nullable = true)\n",
      " |    |    |-- element: long (containsNull = true)\n",
      " |    |-- displayName: string (nullable = true)\n",
      " |    |-- favorite_count: long (nullable = true)\n",
      " |    |-- followers_count: long (nullable = true)\n",
      " |    |-- friends_count: long (nullable = true)\n",
      " |    |-- id: long (nullable = true)\n",
      " |    |-- intro: string (nullable = true)\n",
      " |    |-- is_protected: boolean (nullable = true)\n",
      " |    |-- is_verified: boolean (nullable = true)\n",
      " |    |-- join_date: string (nullable = true)\n",
      " |    |-- listed_count: long (nullable = true)\n",
      " |    |-- location: string (nullable = true)\n",
      " |    |-- media_count: long (nullable = true)\n",
      " |    |-- ref: array (nullable = true)\n",
      " |    |    |-- element: struct (containsNull = true)\n",
      " |    |    |    |-- tcourl: string (nullable = true)\n",
      " |    |    |    |-- text: string (nullable = true)\n",
      " |    |    |    |-- url: string (nullable = true)\n",
      " |    |-- status_count: long (nullable = true)\n",
      " |    |-- url: string (nullable = true)\n",
      " |    |-- username: string (nullable = true)\n",
      " |-- continent: string (nullable = true)\n",
      "\n"
     ]
    }
   ],
   "source": [
    "df_with_updated_continent.printSchema()"
   ]
  },
  {
   "cell_type": "markdown",
   "id": "627d3029-4bb5-4075-beef-6a6d3d137d8a",
   "metadata": {
    "jp-MarkdownHeadingCollapsed": true,
    "tags": []
   },
   "source": [
    "# Tweets Sentiment Analysis"
   ]
  },
  {
   "cell_type": "code",
   "execution_count": 29,
   "id": "7396f1d3-59b5-4354-ba28-94aa318dbfe5",
   "metadata": {},
   "outputs": [],
   "source": [
    "# from transformers import AutoTokenizer, AutoModelForSequenceClassification\n",
    "# import re\n",
    "# from scipy.special import softmax\n",
    "\n",
    "# MODEL = \"cardiffnlp/twitter-xlm-roberta-base-sentiment\"\n",
    "\n",
    "# tokenizer = AutoTokenizer.from_pretrained(MODEL)\n",
    "# model = AutoModelForSequenceClassification.from_pretrained(MODEL)\n",
    "\n",
    "# def preprocess(text):\n",
    "#     text = re.sub(r'user', '', text)  # Remove usernames\n",
    "#     text = re.sub(r'url', '', text)  # Remove URLs\n",
    "#     text = re.sub(r'rt', '', text)   # Remove RT (retweet tag)\n",
    "#     return text.strip()"
   ]
  },
  {
   "cell_type": "code",
   "execution_count": 30,
   "id": "74ed5213-d49b-464c-8cc7-3fc5caca478e",
   "metadata": {},
   "outputs": [],
   "source": [
    "def get_sentiment_scores(text):\n",
    "    text = preprocess(text)\n",
    "    encoded_input = tokenizer(text, return_tensors='pt', truncation=True, max_length=450)\n",
    "    output = model(**encoded_input)\n",
    "    scores = output[0][0].detach().numpy()\n",
    "    scores = softmax(scores)\n",
    "    sentiment_index = np.argmax(scores)\n",
    "    sentiment_label = config.id2label[sentiment_index]\n",
    "    sentiment_score = scores[sentiment_index]\n",
    "    return sentiment_label, sentiment_score"
   ]
  },
  {
   "cell_type": "code",
   "execution_count": 31,
   "id": "a2d0f6b3-8ef5-4ddd-94bc-2e8af9611180",
   "metadata": {},
   "outputs": [],
   "source": [
    "from pyspark.sql.functions import udf, col\n",
    "from pyspark.sql.types import ArrayType, MapType, StringType, FloatType\n",
    "\n",
    "def add_sentiment_to_tweet(tweet):\n",
    "    tweet_content = tweet.get(\"tweet_content\", \"\")\n",
    "    sentiment_label, sentiment_score = get_sentiment_scores(tweet_content)\n",
    "    # Cập nhật tweet map với thông tin cảm xúc mới\n",
    "    updated_tweet = tweet.copy()\n",
    "    updated_tweet[\"sentiment_label\"] = sentiment_label\n",
    "    updated_tweet[\"sentiment_score\"] = str(sentiment_score)  # Chuyển đổi thành chuỗi nếu cần\n",
    "    return updated_tweet\n",
    "\n",
    "tweet_map_type = MapType(StringType(), StringType())\n",
    "\n",
    "add_sentiment_udf = udf(lambda tweets: [add_sentiment_to_tweet(tweet) for tweet in tweets], ArrayType(tweet_map_type))"
   ]
  },
  {
   "cell_type": "code",
   "execution_count": 32,
   "id": "47128a47-35d3-443d-8c59-3c3cab50e5dc",
   "metadata": {},
   "outputs": [],
   "source": [
    "from pyspark.sql.functions import udf\n",
    "from pyspark.sql.types import BooleanType\n",
    "\n",
    "# Define a UDF that checks if any string in the array is longer than 10 characters\n",
    "def contains_long_tweet(tweet_array):\n",
    "    return any(len(tweet) > 10 for tweet in tweet_array)\n",
    "contains_long_tweet_udf = udf(contains_long_tweet, BooleanType())\n",
    "\n",
    "# Filter DataFrame using the UDF\n",
    "newDf = df_with_updated_continent.filter(contains_long_tweet_udf(col('tweets.tweet_content')))"
   ]
  },
  {
   "cell_type": "code",
   "execution_count": 33,
   "id": "5170a5bb-33c9-41a5-8a2e-3f87e50ae7aa",
   "metadata": {},
   "outputs": [
    {
     "name": "stdout",
     "output_type": "stream",
     "text": [
      "root\n",
      " |-- projects_following: array (nullable = true)\n",
      " |    |-- element: struct (containsNull = true)\n",
      " |    |    |-- category: string (nullable = true)\n",
      " |    |    |-- project: string (nullable = true)\n",
      " |-- tweets: array (nullable = true)\n",
      " |    |-- element: map (containsNull = true)\n",
      " |    |    |-- key: string\n",
      " |    |    |-- value: string (valueContainsNull = true)\n",
      " |-- user: struct (nullable = true)\n",
      " |    |-- account_type: string (nullable = true)\n",
      " |    |-- activities_hour: array (nullable = true)\n",
      " |    |    |-- element: long (containsNull = true)\n",
      " |    |-- displayName: string (nullable = true)\n",
      " |    |-- favorite_count: long (nullable = true)\n",
      " |    |-- followers_count: long (nullable = true)\n",
      " |    |-- friends_count: long (nullable = true)\n",
      " |    |-- id: long (nullable = true)\n",
      " |    |-- intro: string (nullable = true)\n",
      " |    |-- is_protected: boolean (nullable = true)\n",
      " |    |-- is_verified: boolean (nullable = true)\n",
      " |    |-- join_date: string (nullable = true)\n",
      " |    |-- listed_count: long (nullable = true)\n",
      " |    |-- location: string (nullable = true)\n",
      " |    |-- media_count: long (nullable = true)\n",
      " |    |-- ref: array (nullable = true)\n",
      " |    |    |-- element: struct (containsNull = true)\n",
      " |    |    |    |-- tcourl: string (nullable = true)\n",
      " |    |    |    |-- text: string (nullable = true)\n",
      " |    |    |    |-- url: string (nullable = true)\n",
      " |    |-- status_count: long (nullable = true)\n",
      " |    |-- url: string (nullable = true)\n",
      " |    |-- username: string (nullable = true)\n",
      " |-- continent: string (nullable = true)\n",
      "\n"
     ]
    }
   ],
   "source": [
    "df_with_sentiment = newDf.withColumn(\"tweets\", add_sentiment_udf(col(\"tweets\")))\n",
    "df_with_sentiment.printSchema()"
   ]
  },
  {
   "cell_type": "markdown",
   "id": "c7d25cc1-fc1e-4103-97fd-5f144874f7c3",
   "metadata": {
    "jp-MarkdownHeadingCollapsed": true,
    "tags": []
   },
   "source": [
    "# Cleaning Process"
   ]
  },
  {
   "cell_type": "code",
   "execution_count": 34,
   "id": "b93a362d-033a-48fb-928f-201ca15515e7",
   "metadata": {},
   "outputs": [
    {
     "name": "stdout",
     "output_type": "stream",
     "text": [
      "root\n",
      " |-- projects_following: array (nullable = true)\n",
      " |    |-- element: struct (containsNull = true)\n",
      " |    |    |-- category: string (nullable = true)\n",
      " |    |    |-- project: string (nullable = true)\n",
      " |-- tweets: array (nullable = true)\n",
      " |    |-- element: struct (containsNull = true)\n",
      " |    |    |-- comment_count: long (nullable = true)\n",
      " |    |    |-- hashtags: array (nullable = true)\n",
      " |    |    |    |-- element: string (containsNull = true)\n",
      " |    |    |-- like_count: long (nullable = true)\n",
      " |    |    |-- mentioned_users: array (nullable = true)\n",
      " |    |    |    |-- element: struct (containsNull = true)\n",
      " |    |    |    |    |-- _type: string (nullable = true)\n",
      " |    |    |    |    |-- displayname: string (nullable = true)\n",
      " |    |    |    |    |-- id: long (nullable = true)\n",
      " |    |    |    |    |-- username: string (nullable = true)\n",
      " |    |    |-- place: struct (nullable = true)\n",
      " |    |    |    |-- country: string (nullable = true)\n",
      " |    |    |    |-- countryCode: string (nullable = true)\n",
      " |    |    |    |-- fullName: string (nullable = true)\n",
      " |    |    |    |-- id: string (nullable = true)\n",
      " |    |    |    |-- name: string (nullable = true)\n",
      " |    |    |    |-- type: string (nullable = true)\n",
      " |    |    |-- quote_count: long (nullable = true)\n",
      " |    |    |-- retweet_count: long (nullable = true)\n",
      " |    |    |-- sentiment: struct (nullable = true)\n",
      " |    |    |    |-- label: string (nullable = true)\n",
      " |    |    |    |-- score: double (nullable = true)\n",
      " |    |    |-- tweet_content: string (nullable = true)\n",
      " |    |    |-- tweet_created_at: string (nullable = true)\n",
      " |    |    |-- tweet_id: long (nullable = true)\n",
      " |    |    |-- user: string (nullable = true)\n",
      " |    |    |-- view_count: long (nullable = true)\n",
      " |-- user: struct (nullable = true)\n",
      " |    |-- account_type: string (nullable = true)\n",
      " |    |-- activities_hour: array (nullable = true)\n",
      " |    |    |-- element: long (containsNull = true)\n",
      " |    |-- continent: string (nullable = true)\n",
      " |    |-- displayName: string (nullable = true)\n",
      " |    |-- favorite_count: long (nullable = true)\n",
      " |    |-- followers_count: long (nullable = true)\n",
      " |    |-- friends_count: long (nullable = true)\n",
      " |    |-- id: long (nullable = true)\n",
      " |    |-- intro: string (nullable = true)\n",
      " |    |-- is_protected: boolean (nullable = true)\n",
      " |    |-- is_verified: boolean (nullable = true)\n",
      " |    |-- join_date: string (nullable = true)\n",
      " |    |-- listed_count: long (nullable = true)\n",
      " |    |-- location: string (nullable = true)\n",
      " |    |-- media_count: long (nullable = true)\n",
      " |    |-- ref: array (nullable = true)\n",
      " |    |    |-- element: struct (containsNull = true)\n",
      " |    |    |    |-- tcourl: string (nullable = true)\n",
      " |    |    |    |-- text: string (nullable = true)\n",
      " |    |    |    |-- url: string (nullable = true)\n",
      " |    |-- status_count: long (nullable = true)\n",
      " |    |-- url: string (nullable = true)\n",
      " |    |-- username: string (nullable = true)\n",
      "\n"
     ]
    }
   ],
   "source": [
    "dfData.printSchema()"
   ]
  },
  {
   "cell_type": "code",
   "execution_count": 35,
   "id": "79f116c6-540d-4230-8db5-1a6e02b9e6bd",
   "metadata": {},
   "outputs": [
    {
     "name": "stderr",
     "output_type": "stream",
     "text": [
      "[Stage 5:>                                                          (0 + 1) / 1]\r"
     ]
    },
    {
     "name": "stdout",
     "output_type": "stream",
     "text": [
      "7973\n"
     ]
    },
    {
     "name": "stderr",
     "output_type": "stream",
     "text": [
      "                                                                                \r"
     ]
    }
   ],
   "source": [
    "record_count = dfData.count()\n",
    "print(record_count)"
   ]
  },
  {
   "cell_type": "code",
   "execution_count": 36,
   "id": "ef7f6dbe-40fd-44de-8c3c-6684af5c431b",
   "metadata": {},
   "outputs": [
    {
     "name": "stderr",
     "output_type": "stream",
     "text": [
      "[Stage 8:>                                                          (0 + 1) / 1]\r"
     ]
    },
    {
     "name": "stdout",
     "output_type": "stream",
     "text": [
      "Số bản ghi sau khi lọc: 7973\n"
     ]
    },
    {
     "name": "stderr",
     "output_type": "stream",
     "text": [
      "                                                                                \r"
     ]
    }
   ],
   "source": [
    "#Clean continent is null\n",
    "from pyspark.sql.functions import col\n",
    "# Lọc để loại bỏ các bản ghi có user.continent là null hoặc trống\n",
    "dfData = dfData.filter(col(\"user.continent\").isNotNull() & (col(\"user.continent\") != \"\"))\n",
    "\n",
    "# Nếu bạn muốn xem số bản ghi sau khi lọc\n",
    "print(\"Số bản ghi sau khi lọc:\", dfData.count())"
   ]
  },
  {
   "cell_type": "code",
   "execution_count": 37,
   "id": "eeae8220-38af-47e0-869d-2a1039e2076f",
   "metadata": {},
   "outputs": [
    {
     "name": "stderr",
     "output_type": "stream",
     "text": [
      "[Stage 11:>                                                         (0 + 1) / 1]\r"
     ]
    },
    {
     "name": "stdout",
     "output_type": "stream",
     "text": [
      "Số bản ghi sau khi lọc: 7973\n"
     ]
    },
    {
     "name": "stderr",
     "output_type": "stream",
     "text": [
      "                                                                                \r"
     ]
    }
   ],
   "source": [
    "#Clean projects_following is null\n",
    "from pyspark.sql.functions import size\n",
    "# Lọc để loại bỏ các bản ghi có projects_following là list rỗng\n",
    "dfData = dfData.filter(size(col(\"projects_following\")) > 0)\n",
    "\n",
    "# Nếu bạn muốn xem số bản ghi sau khi lọc\n",
    "print(\"Số bản ghi sau khi lọc:\", dfData.count())"
   ]
  },
  {
   "cell_type": "code",
   "execution_count": 38,
   "id": "a1e95f9c-a3b4-4596-a0b0-539859428021",
   "metadata": {},
   "outputs": [
    {
     "name": "stderr",
     "output_type": "stream",
     "text": [
      "[Stage 14:==========================================================(1 + 0) / 1]\r"
     ]
    },
    {
     "name": "stdout",
     "output_type": "stream",
     "text": [
      "Tổng số lượng tweets: 273100\n"
     ]
    },
    {
     "name": "stderr",
     "output_type": "stream",
     "text": [
      "                                                                                \r"
     ]
    }
   ],
   "source": [
    "from pyspark.sql.functions import size, sum as sum_\n",
    "\n",
    "# Tính tổng số lượng tweet trên tất cả các bản ghi\n",
    "total_tweet_count = dfData.agg(sum_(size(col(\"tweets\")))).first()[0]\n",
    "\n",
    "print(\"Tổng số lượng tweets:\", total_tweet_count)"
   ]
  },
  {
   "cell_type": "code",
   "execution_count": 39,
   "id": "416b9f11-6d7a-4958-8f1f-9fe2141b8890",
   "metadata": {},
   "outputs": [],
   "source": [
    "#Remove some fields not neccessaire\n",
    "from pyspark.sql.functions import col, transform, struct\n",
    "new_user_struct = struct([col(\"user.\" + field) for field in dfData.select(\"user.*\").columns if field not in [\"activities_hour\", \"account_type\", \"intro\", \"ref\", \"url\"]])\n",
    "\n",
    "# Define a function to recreate the struct for each tweet, excluding the unwanted fields\n",
    "def recreate_tweet(tweet):\n",
    "    return struct(\n",
    "        *[tweet[field] for field in [\"comment_count\", \"hashtags\", \"like_count\", \"quote_count\", \"retweet_count\", \"tweet_content\", \"tweet_created_at\", \"tweet_id\", \"user\", \"view_count\",\"sentiment\"]]\n",
    "    )\n",
    "\n",
    "# Apply this transformation to the 'tweets' array\n",
    "updated_df = dfData.withColumn(\"tweets\", transform(col(\"tweets\"), recreate_tweet))\n",
    "\n",
    "# Now handle the 'user' struct as you were doing\n",
    "new_user_struct = struct([col(\"user.\" + field) for field in dfData.select(\"user.*\").columns if field not in [\"activities_hour\", \"account_type\", \"intro\", \"ref\", \"url\"]])\n",
    "updated_df = updated_df.withColumn(\"user\", new_user_struct)"
   ]
  },
  {
   "cell_type": "code",
   "execution_count": 40,
   "id": "cb8f2868-8acf-4c6d-b792-d2bbfd2bdaf5",
   "metadata": {},
   "outputs": [
    {
     "name": "stderr",
     "output_type": "stream",
     "text": [
      "24/01/02 00:08:31 WARN SparkStringUtils: Truncated the string representation of a plan since it was too large. This behavior can be adjusted by setting 'spark.sql.debug.maxToStringFields'.\n",
      "[Stage 20:>                                                         (0 + 1) / 1]\r"
     ]
    },
    {
     "name": "stdout",
     "output_type": "stream",
     "text": [
      "Number of duplicate rows: 614\n"
     ]
    },
    {
     "name": "stderr",
     "output_type": "stream",
     "text": [
      "                                                                                \r"
     ]
    }
   ],
   "source": [
    "#Check duplicate:\n",
    "\n",
    "# Check for duplicate rows and keep the first occurrence\n",
    "df_no_duplicates = updated_df.dropDuplicates()\n",
    "\n",
    "subset_columns = ['user']\n",
    "df_no_duplicates_subset = updated_df.dropDuplicates(subset=subset_columns)\n",
    "\n",
    "# To count the number of duplicate rows\n",
    "num_duplicates = updated_df.count() - df_no_duplicates.count()\n",
    "print(f\"Number of duplicate rows: {num_duplicates}\")"
   ]
  },
  {
   "cell_type": "code",
   "execution_count": 41,
   "id": "f70e1871-2c3d-443d-8c26-54f0053d6da5",
   "metadata": {},
   "outputs": [
    {
     "name": "stderr",
     "output_type": "stream",
     "text": [
      "[Stage 26:>                                                         (0 + 1) / 1]\r"
     ]
    },
    {
     "name": "stdout",
     "output_type": "stream",
     "text": [
      "+--------------------+--------------------+--------------------+\n",
      "|  projects_following|              tweets|                user|\n",
      "+--------------------+--------------------+--------------------+\n",
      "|[{PFPs, The Super...|[{1086, [NFTGivea...|{Asia, Kevin Susa...|\n",
      "|[{PFPs, Chublins ...|[{0, [Bitcoin, LA...|{Africa, Victor c...|\n",
      "|    [{Dexes, Demex}]|[{20, [], 282, 3,...|{Asia, Ivan 💎, 3...|\n",
      "|[{PFPs, Robotos O...|[{3, [], 32, 1, 4...|{North America, W...|\n",
      "|[{PFPs, CHAD DOGE...|[{0, [], 5, 0, 0,...|{Africa, Luscious...|\n",
      "|[{PFPs, Alice and...|[{0, [], 0, 0, 0,...|{Asia, LUNGLEE.et...|\n",
      "|[{Yield, Kalmy App}]|[{0, [], 4, 1, 0,...|{Europe, roadtoth...|\n",
      "|[{Art, Zerion Gen...|[{1, [], 1, 0, 0,...|{North America, D...|\n",
      "|[{Gaming, Habitat...|[{2, [], 4, 0, 1,...|{Asia, JQuantAnal...|\n",
      "|[{Services, Kleros}]|[{0, [], 1, 0, 0,...|{North America, L...|\n",
      "|[{Cross Chain, Ru...|[{0, [Solana, Sol...|{Africa, carl001@...|\n",
      "|   [{Art, Bye BanX}]|[{0, [], 0, 0, 50...|{Europe, Dream Ko...|\n",
      "|   [{Cexes, Bitkub}]|[{0, [], 4, 0, 1,...|{Asia, Siam Block...|\n",
      "|[{Art, uchida_mon...|[{266, [], 353, 5...|{Asia, Cyber F │⬣...|\n",
      "|[{Dexes, ElasticS...|[{0, [], 36, 1, 1...|{North America, z...|\n",
      "|[{Options Vault, ...|[{0, [], 0, 0, 9,...|{North America, d...|\n",
      "|[{Virtual Worlds,...|[{0, [], 0, 0, 56...|{Africa, Savvy Ed...|\n",
      "|   [{PFPs, mferism}]|[{17, [], 143, 1,...|{North America, i...|\n",
      "|[{PFPs, Sonic 2.0...|[{0, [], 0, 0, 33...|{Asia, Tommy🍌Vas...|\n",
      "|[{Uncollateralize...|[{1, [SocialFi, F...|{North America, ?...|\n",
      "+--------------------+--------------------+--------------------+\n",
      "only showing top 20 rows\n",
      "\n"
     ]
    },
    {
     "name": "stderr",
     "output_type": "stream",
     "text": [
      "                                                                                \r"
     ]
    }
   ],
   "source": [
    "from pyspark.sql import SparkSession\n",
    "from pyspark.sql.functions import col\n",
    "\n",
    "# Assuming 'spark' is your SparkSession and 'df' is your DataFrame\n",
    "# Drop duplicates based on all three columns\n",
    "df_no_duplicates = updated_df.dropDuplicates([\"projects_following\", \"tweets\", \"user\"])\n",
    "\n",
    "# Show the resulting DataFrame with duplicate users removed\n",
    "df_no_duplicates.show()"
   ]
  },
  {
   "cell_type": "code",
   "execution_count": 42,
   "id": "df7b30f3-259a-4337-b94b-fbdc44712ea4",
   "metadata": {},
   "outputs": [
    {
     "name": "stdout",
     "output_type": "stream",
     "text": [
      "root\n",
      " |-- projects_following: array (nullable = true)\n",
      " |    |-- element: struct (containsNull = true)\n",
      " |    |    |-- category: string (nullable = true)\n",
      " |    |    |-- project: string (nullable = true)\n",
      " |-- tweets: array (nullable = true)\n",
      " |    |-- element: struct (containsNull = false)\n",
      " |    |    |-- comment_count: long (nullable = true)\n",
      " |    |    |-- hashtags: array (nullable = true)\n",
      " |    |    |    |-- element: string (containsNull = true)\n",
      " |    |    |-- like_count: long (nullable = true)\n",
      " |    |    |-- quote_count: long (nullable = true)\n",
      " |    |    |-- retweet_count: long (nullable = true)\n",
      " |    |    |-- tweet_content: string (nullable = true)\n",
      " |    |    |-- tweet_created_at: string (nullable = true)\n",
      " |    |    |-- tweet_id: long (nullable = true)\n",
      " |    |    |-- user: string (nullable = true)\n",
      " |    |    |-- view_count: long (nullable = true)\n",
      " |    |    |-- sentiment: struct (nullable = true)\n",
      " |    |    |    |-- label: string (nullable = true)\n",
      " |    |    |    |-- score: double (nullable = true)\n",
      " |-- user: struct (nullable = false)\n",
      " |    |-- continent: string (nullable = true)\n",
      " |    |-- displayName: string (nullable = true)\n",
      " |    |-- favorite_count: long (nullable = true)\n",
      " |    |-- followers_count: long (nullable = true)\n",
      " |    |-- friends_count: long (nullable = true)\n",
      " |    |-- id: long (nullable = true)\n",
      " |    |-- is_protected: boolean (nullable = true)\n",
      " |    |-- is_verified: boolean (nullable = true)\n",
      " |    |-- join_date: string (nullable = true)\n",
      " |    |-- listed_count: long (nullable = true)\n",
      " |    |-- location: string (nullable = true)\n",
      " |    |-- media_count: long (nullable = true)\n",
      " |    |-- status_count: long (nullable = true)\n",
      " |    |-- username: string (nullable = true)\n",
      "\n"
     ]
    }
   ],
   "source": [
    "df_no_duplicates.printSchema()"
   ]
  },
  {
   "cell_type": "code",
   "execution_count": 43,
   "id": "145276a0-d9cd-4cd4-9095-aa2661dc5d83",
   "metadata": {},
   "outputs": [
    {
     "data": {
      "text/plain": [
       "['projects_following', 'tweets', 'user']"
      ]
     },
     "execution_count": 43,
     "metadata": {},
     "output_type": "execute_result"
    }
   ],
   "source": [
    "df_no_duplicates.columns"
   ]
  },
  {
   "cell_type": "code",
   "execution_count": 44,
   "id": "bbbbe8b7-9d73-458e-bd2d-dcd4b37e7f96",
   "metadata": {},
   "outputs": [
    {
     "name": "stderr",
     "output_type": "stream",
     "text": [
      "                                                                                \r"
     ]
    },
    {
     "data": {
      "text/plain": [
       "7359"
      ]
     },
     "execution_count": 44,
     "metadata": {},
     "output_type": "execute_result"
    }
   ],
   "source": [
    "df_no_duplicates.count()"
   ]
  },
  {
   "cell_type": "code",
   "execution_count": 45,
   "id": "a353401a-1982-4cae-9ec3-5701419908a4",
   "metadata": {},
   "outputs": [],
   "source": [
    "# import pandas as pd\n",
    "# pandas_df = df_no_duplicates.toPandas()"
   ]
  },
  {
   "cell_type": "code",
   "execution_count": 46,
   "id": "f2249d20-6951-43fe-b094-235a7c5fe419",
   "metadata": {},
   "outputs": [],
   "source": [
    "# pandas_df"
   ]
  },
  {
   "cell_type": "code",
   "execution_count": 47,
   "id": "a279f182-ec60-47cd-a111-e3f06be69c93",
   "metadata": {},
   "outputs": [
    {
     "name": "stderr",
     "output_type": "stream",
     "text": [
      "[Stage 43:=============================>                            (1 + 1) / 2]\r"
     ]
    },
    {
     "name": "stdout",
     "output_type": "stream",
     "text": [
      "+--------------------+\n",
      "|               score|\n",
      "+--------------------+\n",
      "|               0.425|\n",
      "|0.034482758620689655|\n",
      "| 0.40540540540540543|\n",
      "| 0.34146341463414637|\n",
      "|-0.13157894736842105|\n",
      "| 0.18181818181818182|\n",
      "| 0.09433962264150944|\n",
      "| 0.22580645161290322|\n",
      "|                 0.0|\n",
      "|            -0.09375|\n",
      "|  0.5483870967741935|\n",
      "|  0.5833333333333334|\n",
      "|  0.2571428571428571|\n",
      "|               0.125|\n",
      "|-0.03846153846153...|\n",
      "| 0.08108108108108109|\n",
      "|                 0.2|\n",
      "|             0.15625|\n",
      "|0.027777777777777776|\n",
      "|              0.4375|\n",
      "+--------------------+\n",
      "only showing top 20 rows\n",
      "\n"
     ]
    },
    {
     "name": "stderr",
     "output_type": "stream",
     "text": [
      "                                                                                \r"
     ]
    }
   ],
   "source": [
    "#score \n",
    "from pyspark.sql.functions import explode, avg, col, struct\n",
    "\n",
    "from pyspark.sql.functions import explode, avg, col, when\n",
    "from pyspark.sql.types import IntegerType\n",
    "\n",
    "# Function to convert sentiment labels to numeric values\n",
    "def sentiment_to_numeric(label):\n",
    "    return when(label == 'positive', 1).when(label == 'neutral', 0).when(label == 'negative', -1)\n",
    "\n",
    "# Tính điểm cảm xúc trung bình cho mỗi người dùng\n",
    "exploded_df = df_no_duplicates.select(\"user\", explode(\"tweets\").alias(\"tweet\"))\n",
    "numeric_sentiments_df = exploded_df.withColumn(\"numeric_sentiment\", sentiment_to_numeric(col(\"tweet.sentiment.label\")))\n",
    "average_sentiment = numeric_sentiments_df.groupBy(\"user\").agg(avg(\"numeric_sentiment\").alias(\"score\"))\n",
    "\n",
    "# Ghép kết quả vào DataFrame gốc\n",
    "updated_df = df_no_duplicates.join(average_sentiment, \"user\")\n",
    "\n",
    "# Cập nhật cấu trúc 'user' để bao gồm trường 'score'\n",
    "final_df = updated_df.withColumn(\"user\", struct(col(\"user.*\"), col(\"score\")))\n",
    "\n",
    "# Xóa cột 'score' nếu không cần thiết\n",
    "final_df = final_df.drop(\"score\")\n",
    "\n",
    "# Hiển thị kết quả\n",
    "final_df.select('user.score').show()"
   ]
  },
  {
   "cell_type": "code",
   "execution_count": 65,
   "id": "73a00738-488b-4d13-b779-31009b61fcf9",
   "metadata": {},
   "outputs": [
    {
     "name": "stdout",
     "output_type": "stream",
     "text": [
      "root\n",
      " |-- user: struct (nullable = false)\n",
      " |    |-- continent: string (nullable = true)\n",
      " |    |-- displayName: string (nullable = true)\n",
      " |    |-- favorite_count: long (nullable = true)\n",
      " |    |-- followers_count: long (nullable = true)\n",
      " |    |-- friends_count: long (nullable = true)\n",
      " |    |-- id: long (nullable = true)\n",
      " |    |-- is_protected: boolean (nullable = true)\n",
      " |    |-- is_verified: boolean (nullable = true)\n",
      " |    |-- join_date: string (nullable = true)\n",
      " |    |-- listed_count: long (nullable = true)\n",
      " |    |-- location: string (nullable = true)\n",
      " |    |-- media_count: long (nullable = true)\n",
      " |    |-- status_count: long (nullable = true)\n",
      " |    |-- username: string (nullable = true)\n",
      " |    |-- score: double (nullable = true)\n",
      " |-- projects_following: array (nullable = true)\n",
      " |    |-- element: struct (containsNull = true)\n",
      " |    |    |-- category: string (nullable = true)\n",
      " |    |    |-- project: string (nullable = true)\n",
      " |-- tweets: array (nullable = true)\n",
      " |    |-- element: struct (containsNull = false)\n",
      " |    |    |-- comment_count: long (nullable = true)\n",
      " |    |    |-- hashtags: array (nullable = true)\n",
      " |    |    |    |-- element: string (containsNull = true)\n",
      " |    |    |-- like_count: long (nullable = true)\n",
      " |    |    |-- quote_count: long (nullable = true)\n",
      " |    |    |-- retweet_count: long (nullable = true)\n",
      " |    |    |-- tweet_content: string (nullable = true)\n",
      " |    |    |-- tweet_created_at: string (nullable = true)\n",
      " |    |    |-- tweet_id: long (nullable = true)\n",
      " |    |    |-- user: string (nullable = true)\n",
      " |    |    |-- view_count: long (nullable = true)\n",
      " |    |    |-- sentiment: struct (nullable = true)\n",
      " |    |    |    |-- label: string (nullable = true)\n",
      " |    |    |    |-- score: double (nullable = true)\n",
      "\n"
     ]
    }
   ],
   "source": [
    "final_df.printSchema()"
   ]
  },
  {
   "cell_type": "code",
   "execution_count": 111,
   "id": "6e3c0c54-534a-49e7-8857-9cfcc00ca8b9",
   "metadata": {},
   "outputs": [
    {
     "name": "stderr",
     "output_type": "stream",
     "text": [
      "                                                                                \r"
     ]
    }
   ],
   "source": [
    "pandas_df = final_df.toPandas()"
   ]
  },
  {
   "cell_type": "code",
   "execution_count": 112,
   "id": "c5efed37-3d23-4960-bd48-fdb823c7e36a",
   "metadata": {},
   "outputs": [
    {
     "data": {
      "text/html": [
       "<div>\n",
       "<style scoped>\n",
       "    .dataframe tbody tr th:only-of-type {\n",
       "        vertical-align: middle;\n",
       "    }\n",
       "\n",
       "    .dataframe tbody tr th {\n",
       "        vertical-align: top;\n",
       "    }\n",
       "\n",
       "    .dataframe thead th {\n",
       "        text-align: right;\n",
       "    }\n",
       "</style>\n",
       "<table border=\"1\" class=\"dataframe\">\n",
       "  <thead>\n",
       "    <tr style=\"text-align: right;\">\n",
       "      <th></th>\n",
       "      <th>user</th>\n",
       "      <th>projects_following</th>\n",
       "      <th>tweets</th>\n",
       "    </tr>\n",
       "  </thead>\n",
       "  <tbody>\n",
       "    <tr>\n",
       "      <th>0</th>\n",
       "      <td>(Oceania, Mikes.realm, 12821, 2738, 1588, 1432...</td>\n",
       "      <td>[(PFPs, POTA Genesis), (Art, Elemental Faces b...</td>\n",
       "      <td>[(6, [], 31, 0, 11, ∧ ∧ — ̳͟͞͞ • ‿ • — ̳͟͞͞ lt...</td>\n",
       "    </tr>\n",
       "    <tr>\n",
       "      <th>1</th>\n",
       "      <td>(Africa, Kuzma | NFT CREATOR Tez/eth/SOL🎨🍵 | N...</td>\n",
       "      <td>[(PFPs, PharaGoddess-NFT), (Art, LA FUSION PRI...</td>\n",
       "      <td>[(1, [NFT_NYC, NFTNYC, NFT_NYC2024], 1, 0, 0, ...</td>\n",
       "    </tr>\n",
       "    <tr>\n",
       "      <th>2</th>\n",
       "      <td>(North America, BTabs, 16847, 6708, 980, 14654...</td>\n",
       "      <td>[(Memberships, EZU), (Memberships, IRL Psyched...</td>\n",
       "      <td>[(105, [], 611, 51, 254, tedxucla “ mental hea...</td>\n",
       "    </tr>\n",
       "    <tr>\n",
       "      <th>3</th>\n",
       "      <td>(Asia, uehara, 9819, 3569, 2300, 2852790708, N...</td>\n",
       "      <td>[(PFPs, Owls of Fortune)]</td>\n",
       "      <td>[(16, [UndeadArmy, RiseAndShine], 191, 2, 37, ...</td>\n",
       "    </tr>\n",
       "    <tr>\n",
       "      <th>4</th>\n",
       "      <td>(Asia, Yell 😮, 29627, 6039, 3119, 144263655323...</td>\n",
       "      <td>[(Art, fvckheads), (Art, The Lobstars), (PFPs,...</td>\n",
       "      <td>[(1, [askwhy], 18, 0, 2, early bull run vibe s...</td>\n",
       "    </tr>\n",
       "  </tbody>\n",
       "</table>\n",
       "</div>"
      ],
      "text/plain": [
       "                                                user  \\\n",
       "0  (Oceania, Mikes.realm, 12821, 2738, 1588, 1432...   \n",
       "1  (Africa, Kuzma | NFT CREATOR Tez/eth/SOL🎨🍵 | N...   \n",
       "2  (North America, BTabs, 16847, 6708, 980, 14654...   \n",
       "3  (Asia, uehara, 9819, 3569, 2300, 2852790708, N...   \n",
       "4  (Asia, Yell 😮, 29627, 6039, 3119, 144263655323...   \n",
       "\n",
       "                                  projects_following  \\\n",
       "0  [(PFPs, POTA Genesis), (Art, Elemental Faces b...   \n",
       "1  [(PFPs, PharaGoddess-NFT), (Art, LA FUSION PRI...   \n",
       "2  [(Memberships, EZU), (Memberships, IRL Psyched...   \n",
       "3                          [(PFPs, Owls of Fortune)]   \n",
       "4  [(Art, fvckheads), (Art, The Lobstars), (PFPs,...   \n",
       "\n",
       "                                              tweets  \n",
       "0  [(6, [], 31, 0, 11, ∧ ∧ — ̳͟͞͞ • ‿ • — ̳͟͞͞ lt...  \n",
       "1  [(1, [NFT_NYC, NFTNYC, NFT_NYC2024], 1, 0, 0, ...  \n",
       "2  [(105, [], 611, 51, 254, tedxucla “ mental hea...  \n",
       "3  [(16, [UndeadArmy, RiseAndShine], 191, 2, 37, ...  \n",
       "4  [(1, [askwhy], 18, 0, 2, early bull run vibe s...  "
      ]
     },
     "execution_count": 112,
     "metadata": {},
     "output_type": "execute_result"
    }
   ],
   "source": [
    "pandas_df.head()"
   ]
  },
  {
   "cell_type": "code",
   "execution_count": 116,
   "id": "5c566fcd-5d8b-4a97-bbd8-f9fce4cbdfc5",
   "metadata": {},
   "outputs": [
    {
     "name": "stdout",
     "output_type": "stream",
     "text": [
      "                                                user  \\\n",
      "0  (Oceania, Mikes.realm, 12821, 2738, 1588, 1432...   \n",
      "1  (Africa, Kuzma | NFT CREATOR Tez/eth/SOL🎨🍵 | N...   \n",
      "2  (North America, BTabs, 16847, 6708, 980, 14654...   \n",
      "3  (Asia, uehara, 9819, 3569, 2300, 2852790708, N...   \n",
      "4  (Asia, Yell 😮, 29627, 6039, 3119, 144263655323...   \n",
      "\n",
      "                                  projects_following  \\\n",
      "0  [(PFPs, POTA Genesis), (Art, Elemental Faces b...   \n",
      "1  [(PFPs, PharaGoddess-NFT), (Art, LA FUSION PRI...   \n",
      "2  [(Memberships, EZU), (Memberships, IRL Psyched...   \n",
      "3                          [(PFPs, Owls of Fortune)]   \n",
      "4  [(Art, fvckheads), (Art, The Lobstars), (PFPs,...   \n",
      "\n",
      "                                              tweets  \n",
      "0  [(6, [], 31, 0, 11, ∧ ∧ — ̳͟͞͞ • ‿ • — ̳͟͞͞ lt...  \n",
      "1  [(1, [NFT_NYC, NFTNYC, NFT_NYC2024], 1, 0, 0, ...  \n",
      "2  [(105, [], 611, 51, 254, tedxucla “ mental hea...  \n",
      "3  [(16, [UndeadArmy, RiseAndShine], 191, 2, 37, ...  \n",
      "4  [(1, [askwhy], 18, 0, 2, early bull run vibe s...  \n"
     ]
    }
   ],
   "source": [
    "print(pandas_df.head())\n"
   ]
  },
  {
   "cell_type": "code",
   "execution_count": 117,
   "id": "7d97d110-3379-4db7-a413-8f11ad5767cb",
   "metadata": {},
   "outputs": [],
   "source": [
    "#convert to suitable structure\n",
    "\n",
    "from pyspark.sql import Row\n",
    "\n",
    "from pyspark.sql import Row\n",
    "\n",
    "def row_to_dict(row):\n",
    "    if isinstance(row, Row):\n",
    "        return row.asDict()\n",
    "    return row\n",
    "\n",
    "def validate_user_field(row):\n",
    "    user = row.get('user', {})\n",
    "    if isinstance(user, Row):\n",
    "        user = user.asDict()  # Chuyển đổi Row thành dict\n",
    "\n",
    "    required_keys = ['continent', 'displayName', 'favorite_count', 'followers_count', 'friends_count', 'id', 'is_protected', 'is_verified', 'join_date', 'listed_count', 'location', 'media_count', 'status_count', 'username', 'score']\n",
    "    for key in required_keys:\n",
    "        user.setdefault(key, None)\n",
    "    \n",
    "    return user\n",
    "\n",
    "# Apply this function to the DataFrame\n",
    "pandas_df['user'] = pandas_df.apply(validate_user_field, axis=1)\n",
    "\n",
    "\n",
    "def validate_projects_following_field(row):\n",
    "    projects = row.get('projects_following', [])\n",
    "    if not isinstance(projects, list):\n",
    "        projects = []  # Chuyển đổi thành danh sách nếu không phải\n",
    "\n",
    "    valid_projects = [row_to_dict(project) for project in projects if isinstance(project, (dict, Row))]\n",
    "    return valid_projects\n",
    "\n",
    "pandas_df['projects_following'] = pandas_df.apply(validate_projects_following_field, axis=1)\n",
    "\n",
    "def validate_tweet_field(tweet):\n",
    "    if 'sentiment' in tweet:\n",
    "        tweet['sentiment'] = row_to_dict(tweet['sentiment'])\n",
    "    return tweet\n",
    "\n",
    "for index, row in pandas_df.iterrows():\n",
    "    tweets = row.get('tweets', [])\n",
    "    if isinstance(tweets, list):\n",
    "        pandas_df.at[index, 'tweets'] = [validate_tweet_field(row_to_dict(tweet)) for tweet in tweets if isinstance(tweet, (dict, Row))]"
   ]
  },
  {
   "cell_type": "code",
   "execution_count": 118,
   "id": "f5c709e6-a2cb-4b67-be9d-53497e0ebf3a",
   "metadata": {},
   "outputs": [
    {
     "data": {
      "text/html": [
       "<div>\n",
       "<style scoped>\n",
       "    .dataframe tbody tr th:only-of-type {\n",
       "        vertical-align: middle;\n",
       "    }\n",
       "\n",
       "    .dataframe tbody tr th {\n",
       "        vertical-align: top;\n",
       "    }\n",
       "\n",
       "    .dataframe thead th {\n",
       "        text-align: right;\n",
       "    }\n",
       "</style>\n",
       "<table border=\"1\" class=\"dataframe\">\n",
       "  <thead>\n",
       "    <tr style=\"text-align: right;\">\n",
       "      <th></th>\n",
       "      <th>user</th>\n",
       "      <th>projects_following</th>\n",
       "      <th>tweets</th>\n",
       "    </tr>\n",
       "  </thead>\n",
       "  <tbody>\n",
       "    <tr>\n",
       "      <th>0</th>\n",
       "      <td>{'continent': 'Oceania', 'displayName': 'Mikes...</td>\n",
       "      <td>[{'category': 'PFPs', 'project': 'POTA Genesis...</td>\n",
       "      <td>[{'comment_count': 6, 'hashtags': [], 'like_co...</td>\n",
       "    </tr>\n",
       "    <tr>\n",
       "      <th>1</th>\n",
       "      <td>{'continent': 'Africa', 'displayName': 'Kuzma ...</td>\n",
       "      <td>[{'category': 'PFPs', 'project': 'PharaGoddess...</td>\n",
       "      <td>[{'comment_count': 1, 'hashtags': ['NFT_NYC', ...</td>\n",
       "    </tr>\n",
       "    <tr>\n",
       "      <th>2</th>\n",
       "      <td>{'continent': 'North America', 'displayName': ...</td>\n",
       "      <td>[{'category': 'Memberships', 'project': 'EZU'}...</td>\n",
       "      <td>[{'comment_count': 105, 'hashtags': [], 'like_...</td>\n",
       "    </tr>\n",
       "    <tr>\n",
       "      <th>3</th>\n",
       "      <td>{'continent': 'Asia', 'displayName': 'uehara',...</td>\n",
       "      <td>[{'category': 'PFPs', 'project': 'Owls of Fort...</td>\n",
       "      <td>[{'comment_count': 16, 'hashtags': ['UndeadArm...</td>\n",
       "    </tr>\n",
       "    <tr>\n",
       "      <th>4</th>\n",
       "      <td>{'continent': 'Asia', 'displayName': 'Yell 😮',...</td>\n",
       "      <td>[{'category': 'Art', 'project': 'fvckheads'}, ...</td>\n",
       "      <td>[{'comment_count': 1, 'hashtags': ['askwhy'], ...</td>\n",
       "    </tr>\n",
       "  </tbody>\n",
       "</table>\n",
       "</div>"
      ],
      "text/plain": [
       "                                                user  \\\n",
       "0  {'continent': 'Oceania', 'displayName': 'Mikes...   \n",
       "1  {'continent': 'Africa', 'displayName': 'Kuzma ...   \n",
       "2  {'continent': 'North America', 'displayName': ...   \n",
       "3  {'continent': 'Asia', 'displayName': 'uehara',...   \n",
       "4  {'continent': 'Asia', 'displayName': 'Yell 😮',...   \n",
       "\n",
       "                                  projects_following  \\\n",
       "0  [{'category': 'PFPs', 'project': 'POTA Genesis...   \n",
       "1  [{'category': 'PFPs', 'project': 'PharaGoddess...   \n",
       "2  [{'category': 'Memberships', 'project': 'EZU'}...   \n",
       "3  [{'category': 'PFPs', 'project': 'Owls of Fort...   \n",
       "4  [{'category': 'Art', 'project': 'fvckheads'}, ...   \n",
       "\n",
       "                                              tweets  \n",
       "0  [{'comment_count': 6, 'hashtags': [], 'like_co...  \n",
       "1  [{'comment_count': 1, 'hashtags': ['NFT_NYC', ...  \n",
       "2  [{'comment_count': 105, 'hashtags': [], 'like_...  \n",
       "3  [{'comment_count': 16, 'hashtags': ['UndeadArm...  \n",
       "4  [{'comment_count': 1, 'hashtags': ['askwhy'], ...  "
      ]
     },
     "execution_count": 118,
     "metadata": {},
     "output_type": "execute_result"
    }
   ],
   "source": [
    "pandas_df.head()"
   ]
  },
  {
   "cell_type": "markdown",
   "id": "2fdb73cf-5601-4dfc-b9bd-77450a323bf3",
   "metadata": {
    "jp-MarkdownHeadingCollapsed": true,
    "tags": []
   },
   "source": [
    "# Elasticsearch"
   ]
  },
  {
   "cell_type": "code",
   "execution_count": 49,
   "id": "5093ed40-b572-4b2b-b2a6-7cf10e2c957e",
   "metadata": {},
   "outputs": [],
   "source": [
    "from elasticsearch import Elasticsearch, helpers\n",
    "es = Elasticsearch(\n",
    "    ['http://34.143.255.36:9200/'],\n",
    "    basic_auth=('elastic', 'elastic2023'),\n",
    "    request_timeout=500\n",
    ")"
   ]
  },
  {
   "cell_type": "code",
   "execution_count": 50,
   "id": "52dadfcb-b712-4491-a501-329d9742d3f4",
   "metadata": {},
   "outputs": [
    {
     "data": {
      "text/plain": [
       "ObjectApiResponse({'name': 'es01', 'cluster_name': 'hust-cluster', 'cluster_uuid': 'G2cWi6pkRIiHGhRX4hPOyA', 'version': {'number': '8.9.1', 'build_flavor': 'default', 'build_type': 'tar', 'build_hash': 'a813d015ef1826148d9d389bd1c0d781c6e349f0', 'build_date': '2023-08-10T05:02:32.517455352Z', 'build_snapshot': False, 'lucene_version': '9.7.0', 'minimum_wire_compatibility_version': '7.17.0', 'minimum_index_compatibility_version': '7.0.0'}, 'tagline': 'You Know, for Search'})"
      ]
     },
     "execution_count": 50,
     "metadata": {},
     "output_type": "execute_result"
    }
   ],
   "source": [
    "es.info()"
   ]
  },
  {
   "cell_type": "code",
   "execution_count": 56,
   "id": "87eb3d1e-078e-4637-be6d-50ff584dbdfd",
   "metadata": {},
   "outputs": [
    {
     "name": "stdout",
     "output_type": "stream",
     "text": [
      "An error occurred: 'DataFrame' object has no attribute 'iterrows'\n"
     ]
    }
   ],
   "source": [
    "def docs_generator(df):\n",
    "    for index, document in df.iterrows():\n",
    "        yield {\n",
    "            \"_index\": \"your_index_name\",  # Thay thế với tên index của bạn\n",
    "            \"_source\": document.to_dict(),\n",
    "        }\n",
    "\n",
    "# Index dữ liệu vào Elasticsearch\n",
    "try:\n",
    "    response = helpers.bulk(es, docs_generator(final_df))\n",
    "    print(f\"Bulk indexing completed. Indexed {response[0]} documents.\")\n",
    "except Exception as e:\n",
    "    print(f\"An error occurred: {e}\")"
   ]
  },
  {
   "cell_type": "code",
   "execution_count": 58,
   "id": "93849e56-a4e9-4f15-b729-eb0dff23859f",
   "metadata": {},
   "outputs": [
    {
     "name": "stderr",
     "output_type": "stream",
     "text": [
      "                                                                                \r"
     ]
    }
   ],
   "source": [
    "pandas_df = final_df.toPandas()"
   ]
  },
  {
   "cell_type": "code",
   "execution_count": 59,
   "id": "32c2ea47-4176-4cd4-8ea3-f154209f74af",
   "metadata": {},
   "outputs": [
    {
     "data": {
      "text/html": [
       "<div>\n",
       "<style scoped>\n",
       "    .dataframe tbody tr th:only-of-type {\n",
       "        vertical-align: middle;\n",
       "    }\n",
       "\n",
       "    .dataframe tbody tr th {\n",
       "        vertical-align: top;\n",
       "    }\n",
       "\n",
       "    .dataframe thead th {\n",
       "        text-align: right;\n",
       "    }\n",
       "</style>\n",
       "<table border=\"1\" class=\"dataframe\">\n",
       "  <thead>\n",
       "    <tr style=\"text-align: right;\">\n",
       "      <th></th>\n",
       "      <th>user</th>\n",
       "      <th>projects_following</th>\n",
       "      <th>tweets</th>\n",
       "    </tr>\n",
       "  </thead>\n",
       "  <tbody>\n",
       "    <tr>\n",
       "      <th>0</th>\n",
       "      <td>(Oceania, Mikes.realm, 12821, 2738, 1588, 1432...</td>\n",
       "      <td>[(PFPs, POTA Genesis), (Art, Elemental Faces b...</td>\n",
       "      <td>[(6, [], 31, 0, 11, ∧ ∧ — ̳͟͞͞ • ‿ • — ̳͟͞͞ lt...</td>\n",
       "    </tr>\n",
       "    <tr>\n",
       "      <th>1</th>\n",
       "      <td>(Africa, Kuzma | NFT CREATOR Tez/eth/SOL🎨🍵 | N...</td>\n",
       "      <td>[(PFPs, PharaGoddess-NFT), (Art, LA FUSION PRI...</td>\n",
       "      <td>[(1, [NFT_NYC, NFTNYC, NFT_NYC2024], 1, 0, 0, ...</td>\n",
       "    </tr>\n",
       "    <tr>\n",
       "      <th>2</th>\n",
       "      <td>(North America, BTabs, 16847, 6708, 980, 14654...</td>\n",
       "      <td>[(Memberships, EZU), (Memberships, IRL Psyched...</td>\n",
       "      <td>[(105, [], 611, 51, 254, tedxucla “ mental hea...</td>\n",
       "    </tr>\n",
       "    <tr>\n",
       "      <th>3</th>\n",
       "      <td>(Asia, uehara, 9819, 3569, 2300, 2852790708, N...</td>\n",
       "      <td>[(PFPs, Owls of Fortune)]</td>\n",
       "      <td>[(16, [UndeadArmy, RiseAndShine], 191, 2, 37, ...</td>\n",
       "    </tr>\n",
       "    <tr>\n",
       "      <th>4</th>\n",
       "      <td>(Asia, Yell 😮, 29627, 6039, 3119, 144263655323...</td>\n",
       "      <td>[(Art, fvckheads), (Art, The Lobstars), (PFPs,...</td>\n",
       "      <td>[(1, [askwhy], 18, 0, 2, early bull run vibe s...</td>\n",
       "    </tr>\n",
       "    <tr>\n",
       "      <th>...</th>\n",
       "      <td>...</td>\n",
       "      <td>...</td>\n",
       "      <td>...</td>\n",
       "    </tr>\n",
       "    <tr>\n",
       "      <th>7258</th>\n",
       "      <td>(North America, StrayCat, 19042, 535, 3045, 91...</td>\n",
       "      <td>[(Memberships, The Immortals)]</td>\n",
       "      <td>[(3, [Moonbears, Casino], 13, 1, 4, made custo...</td>\n",
       "    </tr>\n",
       "    <tr>\n",
       "      <th>7259</th>\n",
       "      <td>(North America, luana, 86034, 16078, 978, 1055...</td>\n",
       "      <td>[(Art, Storm's editions)]</td>\n",
       "      <td>[(42, [], 11293, 26, 1848, anxiety mixed mediu...</td>\n",
       "    </tr>\n",
       "    <tr>\n",
       "      <th>7260</th>\n",
       "      <td>(Asia, ??????, 4550, 95, 190, 1029864087935766...</td>\n",
       "      <td>[(Bridge, pNetwork)]</td>\n",
       "      <td>[(0, [Luna], 0, 0, 19, rt user price luna luna...</td>\n",
       "    </tr>\n",
       "    <tr>\n",
       "      <th>7261</th>\n",
       "      <td>(North America, Nook.jpeg ⚔️🔮🐍🤖🥷, 26040, 8299,...</td>\n",
       "      <td>[(Gaming, A.N.I.M.O), (Memberships, Deadfrenz ...</td>\n",
       "      <td>[(68, [PortfolioDay], 550, 17, 127, portfoliod...</td>\n",
       "    </tr>\n",
       "    <tr>\n",
       "      <th>7262</th>\n",
       "      <td>(North America, BitMetis, 193, 95608, 348, 148...</td>\n",
       "      <td>[(Gaming, League of Kingdoms (Ethereum)), (Gam...</td>\n",
       "      <td>[(21, [GameFi], 64, 1, 29, gm metis fam get re...</td>\n",
       "    </tr>\n",
       "  </tbody>\n",
       "</table>\n",
       "<p>7263 rows × 3 columns</p>\n",
       "</div>"
      ],
      "text/plain": [
       "                                                   user  \\\n",
       "0     (Oceania, Mikes.realm, 12821, 2738, 1588, 1432...   \n",
       "1     (Africa, Kuzma | NFT CREATOR Tez/eth/SOL🎨🍵 | N...   \n",
       "2     (North America, BTabs, 16847, 6708, 980, 14654...   \n",
       "3     (Asia, uehara, 9819, 3569, 2300, 2852790708, N...   \n",
       "4     (Asia, Yell 😮, 29627, 6039, 3119, 144263655323...   \n",
       "...                                                 ...   \n",
       "7258  (North America, StrayCat, 19042, 535, 3045, 91...   \n",
       "7259  (North America, luana, 86034, 16078, 978, 1055...   \n",
       "7260  (Asia, ??????, 4550, 95, 190, 1029864087935766...   \n",
       "7261  (North America, Nook.jpeg ⚔️🔮🐍🤖🥷, 26040, 8299,...   \n",
       "7262  (North America, BitMetis, 193, 95608, 348, 148...   \n",
       "\n",
       "                                     projects_following  \\\n",
       "0     [(PFPs, POTA Genesis), (Art, Elemental Faces b...   \n",
       "1     [(PFPs, PharaGoddess-NFT), (Art, LA FUSION PRI...   \n",
       "2     [(Memberships, EZU), (Memberships, IRL Psyched...   \n",
       "3                             [(PFPs, Owls of Fortune)]   \n",
       "4     [(Art, fvckheads), (Art, The Lobstars), (PFPs,...   \n",
       "...                                                 ...   \n",
       "7258                     [(Memberships, The Immortals)]   \n",
       "7259                          [(Art, Storm's editions)]   \n",
       "7260                               [(Bridge, pNetwork)]   \n",
       "7261  [(Gaming, A.N.I.M.O), (Memberships, Deadfrenz ...   \n",
       "7262  [(Gaming, League of Kingdoms (Ethereum)), (Gam...   \n",
       "\n",
       "                                                 tweets  \n",
       "0     [(6, [], 31, 0, 11, ∧ ∧ — ̳͟͞͞ • ‿ • — ̳͟͞͞ lt...  \n",
       "1     [(1, [NFT_NYC, NFTNYC, NFT_NYC2024], 1, 0, 0, ...  \n",
       "2     [(105, [], 611, 51, 254, tedxucla “ mental hea...  \n",
       "3     [(16, [UndeadArmy, RiseAndShine], 191, 2, 37, ...  \n",
       "4     [(1, [askwhy], 18, 0, 2, early bull run vibe s...  \n",
       "...                                                 ...  \n",
       "7258  [(3, [Moonbears, Casino], 13, 1, 4, made custo...  \n",
       "7259  [(42, [], 11293, 26, 1848, anxiety mixed mediu...  \n",
       "7260  [(0, [Luna], 0, 0, 19, rt user price luna luna...  \n",
       "7261  [(68, [PortfolioDay], 550, 17, 127, portfoliod...  \n",
       "7262  [(21, [GameFi], 64, 1, 29, gm metis fam get re...  \n",
       "\n",
       "[7263 rows x 3 columns]"
      ]
     },
     "execution_count": 59,
     "metadata": {},
     "output_type": "execute_result"
    }
   ],
   "source": [
    "pandas_df"
   ]
  },
  {
   "cell_type": "code",
   "execution_count": 61,
   "id": "c2e0f1c9-de52-4fc2-9f91-6a011f035624",
   "metadata": {},
   "outputs": [
    {
     "name": "stdout",
     "output_type": "stream",
     "text": [
      "An error occurred: 500 document(s) failed to index.\n"
     ]
    }
   ],
   "source": [
    "from elasticsearch import Elasticsearch, helpers\n",
    "\n",
    "# Connect to Elasticsearch\n",
    "es = Elasticsearch(\n",
    "    [\"http://34.143.255.36:9200/\"],\n",
    "    basic_auth=('elastic', 'elastic2023')\n",
    ")\n",
    "\n",
    "# Function to generate Elasticsearch documents from Pandas DataFrame\n",
    "def docs_generator(df):\n",
    "    for index, row in df.iterrows():\n",
    "        yield {\n",
    "            \"_index\": \"your_index_name\",  # Replace with your index name\n",
    "            \"_id\": index,  # Optionally set a unique ID for each document\n",
    "            \"_source\": row.to_dict(),\n",
    "        }\n",
    "\n",
    "# Bulk index the data\n",
    "try:\n",
    "    response = helpers.bulk(es, docs_generator(pandas_df))\n",
    "    print(f\"Bulk indexing completed. {response[0]} documents indexed.\")\n",
    "except Exception as e:\n",
    "    print(f\"An error occurred: {e}\")"
   ]
  },
  {
   "cell_type": "code",
   "execution_count": 122,
   "id": "8c634799-5b4a-4741-af3a-0b19be4db74e",
   "metadata": {},
   "outputs": [
    {
     "name": "stderr",
     "output_type": "stream",
     "text": [
      "/tmp/ipykernel_4174015/1937390818.py:13: DeprecationWarning: Passing transport options in the API method is deprecated. Use 'Elasticsearch.options()' instead.\n",
      "  es.indices.delete(index=index_name, ignore=[400, 404])\n",
      "/tmp/ipykernel_4174015/1937390818.py:16: DeprecationWarning: Passing transport options in the API method is deprecated. Use 'Elasticsearch.options()' instead.\n",
      "  es.indices.create(index=index_name, body={\n"
     ]
    },
    {
     "name": "stdout",
     "output_type": "stream",
     "text": [
      "Bulk indexing completed. 7263 documents indexed successfully.\n",
      "Number of failed documents: 0\n"
     ]
    }
   ],
   "source": [
    "from elasticsearch import Elasticsearch, helpers\n",
    "\n",
    "# Connect to Elasticsearch\n",
    "es = Elasticsearch(\n",
    "    [\"http://34.143.255.36:9200/\"],\n",
    "    basic_auth=('elastic', 'elastic2023')\n",
    ")\n",
    "\n",
    "# Define index name\n",
    "index_name = 'ndycuong11'\n",
    "\n",
    "# Delete the index if it exists\n",
    "es.indices.delete(index=index_name, ignore=[400, 404])\n",
    "\n",
    "# Create a new index with the correct mappings\n",
    "es.indices.create(index=index_name, body={\n",
    "    'mappings': {\n",
    "        'properties': {\n",
    "            'user': {\n",
    "                'properties': {\n",
    "                    'continent': {'type': 'keyword'},\n",
    "                    'displayName': {'type': 'text'},\n",
    "                    'favorite_count': {'type': 'long'},\n",
    "                    'followers_count': {'type': 'long'},\n",
    "                    'friends_count': {'type': 'long'},\n",
    "                    'id': {'type': 'keyword'},\n",
    "                    'is_protected': {'type': 'boolean'},\n",
    "                    'is_verified': {'type': 'boolean'},\n",
    "                    'join_date': {'type': 'date', 'format': 'strict_date_optional_time||epoch_millis'},\n",
    "                    'listed_count': {'type': 'long'},\n",
    "                    'location': {'type': 'text'},\n",
    "                    'media_count': {'type': 'long'},\n",
    "                    'status_count': {'type': 'long'},\n",
    "                    'username': {'type': 'text'},\n",
    "                    'score': {'type': 'double'}\n",
    "                }\n",
    "            },\n",
    "            'projects_following': {\n",
    "                'type': 'nested',\n",
    "                'properties': {\n",
    "                    'category': {'type': 'keyword'},\n",
    "                    'project': {'type': 'keyword'}\n",
    "                }\n",
    "            },\n",
    "            'tweets': {\n",
    "                'type': 'nested',\n",
    "                'properties': {\n",
    "                    'comment_count': {'type': 'long'},\n",
    "                    'hashtags': {'type': 'keyword'}, \n",
    "                    'like_count': {'type': 'long'},\n",
    "                    'quote_count': {'type': 'long'},\n",
    "                    'retweet_count': {'type': 'long'},\n",
    "                    'tweet_content': {'type': 'text'},\n",
    "                    'tweet_created_at': {'type': 'date', 'format': 'strict_date_optional_time||epoch_millis'},\n",
    "                    'tweet_id': {'type': 'keyword'},\n",
    "                    'user': {'type': 'text'},\n",
    "                    'view_count': {'type': 'long'},\n",
    "                    'sentiment': {\n",
    "                        'properties': {\n",
    "                            'label': {'type': 'keyword'},\n",
    "                            'score': {'type': 'double'}\n",
    "                        }\n",
    "                    }\n",
    "                }\n",
    "            }\n",
    "        }\n",
    "    }\n",
    "}, ignore=400)\n",
    "\n",
    "# Prepare data for bulk indexing\n",
    "action_list = []\n",
    "for index, row in pandas_df.iterrows():\n",
    "    record = {\n",
    "        '_op_type': 'index',\n",
    "        '_index': index_name,\n",
    "        '_source': row.to_dict()\n",
    "    }\n",
    "    action_list.append(record)\n",
    "\n",
    "# Bulk index the data\n",
    "try:\n",
    "    success, failed = helpers.bulk(es, action_list, stats_only=False, raise_on_error=False)\n",
    "    print(f\"Bulk indexing completed. {success} documents indexed successfully.\")\n",
    "    print(f\"Number of failed documents: {len(failed)}\")\n",
    "    for i, fail in enumerate(failed, start=1):\n",
    "        print(f\"Fail {i}: {fail}\")\n",
    "except Exception as e:\n",
    "    print(f\"An error occurred: {e}\")"
   ]
  },
  {
   "cell_type": "code",
   "execution_count": 123,
   "id": "85311594-9e10-4bfe-9e4f-3c5032e5f1aa",
   "metadata": {},
   "outputs": [
    {
     "name": "stdout",
     "output_type": "stream",
     "text": [
      "Cluster Health: {'cluster_name': 'hust-cluster', 'status': 'yellow', 'timed_out': False, 'number_of_nodes': 3, 'number_of_data_nodes': 3, 'active_primary_shards': 168, 'active_shards': 237, 'relocating_shards': 0, 'initializing_shards': 0, 'unassigned_shards': 99, 'delayed_unassigned_shards': 0, 'number_of_pending_tasks': 0, 'number_of_in_flight_fetch': 0, 'task_max_waiting_in_queue_millis': 0, 'active_shards_percent_as_number': 70.53571428571429}\n"
     ]
    }
   ],
   "source": [
    "try:\n",
    "    response = es.cluster.health()\n",
    "    print(\"Cluster Health:\", response)\n",
    "except Exception as e:\n",
    "    print(\"Error connecting to Elasticsearch:\", e)"
   ]
  },
  {
   "cell_type": "code",
   "execution_count": 52,
   "id": "50a033c0-c62e-4c0e-927b-5f4287846d04",
   "metadata": {},
   "outputs": [],
   "source": [
    "# import subprocess\n",
    "\n",
    "# try:\n",
    "#     # Define the curl command\n",
    "#     curl_cmd = 'curl -X GET \"http://34.143.255.36:9200/_cat/shards?h=index,shard,prirep,state,unassigned.reason\"'\n",
    "\n",
    "#     # Run the curl command and capture the output\n",
    "#     result = subprocess.run(curl_cmd, shell=True, check=True, stdout=subprocess.PIPE, stderr=subprocess.PIPE, text=True)\n",
    "\n",
    "#     # Filter the output for UNASSIGNED shards\n",
    "#     unassigned_shards = [line for line in result.stdout.split('\\n') if 'UNASSIGNED' in line]\n",
    "    \n",
    "#     # Print the unassigned shards\n",
    "#     for shard in unassigned_shards:\n",
    "#         print(shard)\n",
    "# except subprocess.CalledProcessError as e:\n",
    "#     print(\"An error occurred:\", e.stderr)"
   ]
  },
  {
   "cell_type": "code",
   "execution_count": 59,
   "id": "4e9f38b6-8e0c-4f6f-a19a-ed5266cd7776",
   "metadata": {},
   "outputs": [],
   "source": [
    "#(base) group02it5384@bigdata-01:~$ curl -X GET \"http://34.143.255.36:9200/_cat/shards?h=index,shard,prirep,state,unassigned.reason\" -u elastic:elastic2023"
   ]
  }
 ],
 "metadata": {
  "kernelspec": {
   "display_name": "Python 3 (ipykernel)",
   "language": "python",
   "name": "python3"
  },
  "language_info": {
   "codemirror_mode": {
    "name": "ipython",
    "version": 3
   },
   "file_extension": ".py",
   "mimetype": "text/x-python",
   "name": "python",
   "nbconvert_exporter": "python",
   "pygments_lexer": "ipython3",
   "version": "3.9.12"
  }
 },
 "nbformat": 4,
 "nbformat_minor": 5
}
